{
 "cells": [
  {
   "cell_type": "code",
   "execution_count": 1,
   "metadata": {},
   "outputs": [],
   "source": [
    "from bs4 import BeautifulSoup\n",
    "import youtube_dl\n",
    "import requests\n",
    "from functools import reduce\n",
    "import random\n",
    "import pafy "
   ]
  },
  {
   "cell_type": "code",
   "execution_count": null,
   "metadata": {},
   "outputs": [],
   "source": [
    "class VideoDownloader:\n",
    "    def __init__(self, num_vids=20, max_length=360, search_terms_input=''):\n",
    "        self.num_vids = num_vids\n",
    "        with open(search_terms_input, 'r') as r:\n",
    "            self.search_terms = r.read().split('\\n')\n",
    "        r.close()\n",
    "    \n",
    "    def download_videos(self):\n",
    "        random.shuffle(self.search_terms)\n",
    "        all_options = [self.collect_videos(x) for x in self.search_terms[:4]]\n",
    "        list_of_links = reduce(lambda x, y: x + y, all_options)\n",
    "        print(list_of_links)\n",
    "        if list_of_links > self.num_vids:\n",
    "            random.shuffle(list_of_links)\n",
    "            list_of_links = list_of_links[:self.num_vids]\n",
    "        for i, item in enumerate(list_of_links):\n",
    "            self.download_video(item, 'outputs/{}.mp4'.format(str(i)))\n",
    "                       \n",
    "    def download_video(self, link, i):\n",
    "        print('downloading', link)\n",
    "        ydl_opts = {'format': 'mp4',\n",
    "                    'noplaylist':'true',\n",
    "                    'forceduration' : 'true',\n",
    "                    'verbose'  : 'true'}\n",
    "        with youtube_dl.YoutubeDL(ydl_opts) as ydl:\n",
    "            ydl.download([link])\n",
    "            \n",
    "    def collect_videos(self, search_term):\n",
    "        video_request = self.get_video_request(search_term)\n",
    "        list_of_links = self.video_links_from_search_request(video_request)\n",
    "        collected_vids = [x for x in list_of_links if self.filter_out_long_vids(x)]\n",
    "        return collected_vids\n",
    "        \n",
    "    \n",
    "    def filter_out_long_vids(self, link):\n",
    "        try: \n",
    "            return pafy.new(link).length < 360\n",
    "        except:\n",
    "            return False\n",
    "            \n",
    "    def video_links_from_search_request(self, html):\n",
    "        soup = BeautifulSoup(html, \"html.parser\")\n",
    "        vids = soup.findAll('a',attrs={'class':'yt-uix-tile-link'})\n",
    "        vids = filter(lambda x: 'channel' not in x, vids)\n",
    "        return [''.join(['http://youtube.com', x['href']]) for x in vids]\n",
    "    \n",
    "    def get_video_request(self, search_term):\n",
    "        query ='https://www.youtube.com/results?search_query=\"{}\"++long+-vlog+-review'.format(search_term)\n",
    "        r = requests.get(query)\n",
    "        if r.ok:\n",
    "            return r.text\n",
    "        raise Exception('Youtube Search Failed')"
   ]
  },
  {
   "cell_type": "code",
   "execution_count": null,
   "metadata": {},
   "outputs": [],
   "source": [
    "abc = VideoDownloader(20, 1000, 'search.txt')\n",
    "abc.download_videos()"
   ]
  },
  {
   "cell_type": "code",
   "execution_count": 7,
   "metadata": {},
   "outputs": [
    {
     "name": "stdout",
     "output_type": "stream",
     "text": [
      "True\n"
     ]
    }
   ],
   "source": [
    "    print(pafy.new('http://youtube.com/watch?v=Mkw9phSI5io').length < 3600)"
   ]
  }
 ],
 "metadata": {
  "kernelspec": {
   "display_name": "Python 3",
   "language": "python",
   "name": "python3"
  },
  "language_info": {
   "codemirror_mode": {
    "name": "ipython",
    "version": 3
   },
   "file_extension": ".py",
   "mimetype": "text/x-python",
   "name": "python",
   "nbconvert_exporter": "python",
   "pygments_lexer": "ipython3",
   "version": "3.8.0"
  }
 },
 "nbformat": 4,
 "nbformat_minor": 4
}
