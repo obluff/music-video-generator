{
 "cells": [
  {
   "cell_type": "code",
   "execution_count": 6,
   "metadata": {},
   "outputs": [],
   "source": [
    "from bs4 import BeautifulSoup\n",
    "import youtube_dl\n",
    "import requests\n",
    "from functools import reduce\n",
    "import random\n",
    "import pafy \n",
    "import random\n",
    "import os \n",
    "from aubio import source, onset\n",
    "from moviepy import editor"
   ]
  },
  {
   "cell_type": "code",
   "execution_count": 27,
   "metadata": {},
   "outputs": [],
   "source": [
    "class VideoDownloader:\n",
    "    def __init__(self, num_vids=20, max_length=360, search_terms_input=''):\n",
    "        self.num_vids = num_vids\n",
    "        with open(search_terms_input, 'r') as r:\n",
    "            self.search_terms = r.read().split('\\n')\n",
    "        r.close()\n",
    "    \n",
    "    def download_videos(self):\n",
    "        random.shuffle(self.search_terms)\n",
    "        all_options = [self.collect_videos(x) for x in self.search_terms[:4]]\n",
    "        list_of_links = reduce(lambda x, y: x + y, all_options)\n",
    "        print(list_of_links)\n",
    "        if len(list_of_links) > self.num_vids:\n",
    "            random.shuffle(list_of_links)\n",
    "            list_of_links = list_of_links[:self.num_vids]\n",
    "        for i, item in enumerate(list_of_links):\n",
    "            print('Downloading', item)\n",
    "            self.download_video(item)\n",
    "                       \n",
    "    def download_video(self, link):\n",
    "        print('downloading', link)\n",
    "        ydl_opts = {'format': 'mp4',\n",
    "                    'noplaylist':'true',\n",
    "                    'outtmpl': 'outputs/%(title)s-%(id)s.%(ext)s',\n",
    "                    'forceduration' : 'true',\n",
    "                    'verbose'  : 'true'}\n",
    "        with youtube_dl.YoutubeDL(ydl_opts) as ydl:\n",
    "            ydl.download([link])\n",
    "            \n",
    "    def collect_videos(self, search_term):\n",
    "        video_request = self.get_video_request(search_term)\n",
    "        list_of_links = self.video_links_from_search_request(video_request)\n",
    "        collected_vids = [x for x in list_of_links if self.filter_out_long_vids(x)]\n",
    "        return collected_vids\n",
    "        \n",
    "    \n",
    "    def filter_out_long_vids(self, link):\n",
    "        try:  \n",
    "            return pafy.new(link).length < 3600\n",
    "        except:\n",
    "            return False\n",
    "            \n",
    "    def video_links_from_search_request(self, html):\n",
    "        soup = BeautifulSoup(html, \"html.parser\")\n",
    "        vids = soup.findAll('a',attrs={'class':'yt-uix-tile-link'})\n",
    "        vids = filter(lambda x: 'channel' not in x, vids)\n",
    "        return [''.join(['http://youtube.com', x['href']]) for x in vids]\n",
    "    \n",
    "    def get_video_request(self, search_term):\n",
    "        query ='https://www.youtube.com/results?search_query=\"{}\"++long+-vlog+-review'.format(search_term)\n",
    "        r = requests.get(query)\n",
    "        if r.ok:\n",
    "            return r.text\n",
    "        raise Exception('Youtube Search Failed')"
   ]
  },
  {
   "cell_type": "code",
   "execution_count": 28,
   "metadata": {},
   "outputs": [
    {
     "name": "stderr",
     "output_type": "stream",
     "text": [
      "ERROR: This video is unavailable.\n",
      "ERROR: This video is unavailable.\n",
      "[debug] Encodings: locale UTF-8, fs utf-8, out UTF-8, pref UTF-8\n",
      "[debug] youtube-dl version 2020.01.24\n",
      "[debug] Python version 3.8.1 (CPython) - Linux-5.4.6-2-MANJARO-x86_64-with-glibc2.2.5\n",
      "[debug] exe versions: ffmpeg 4.2.1, ffprobe 4.2.1, rtmpdump 2.4\n",
      "[debug] Proxy map: {}\n"
     ]
    },
    {
     "name": "stdout",
     "output_type": "stream",
     "text": [
      "['http://youtube.com/watch?v=Br6JL1dZroI', 'http://youtube.com/watch?v=qXmVsMO1MmM', 'http://youtube.com/watch?v=VsEa3vcEmes', 'http://youtube.com/watch?v=CbRH57Xz_U4', 'http://youtube.com/watch?v=TcWPiHjIExA', 'http://youtube.com/watch?v=QMwdPGm3uIA', 'http://youtube.com/watch?v=PGdohKSoM8U', 'http://youtube.com/watch?v=g6Y4yCTpSzA', 'http://youtube.com/watch?v=jVo0QilXDig', 'http://youtube.com/watch?v=qntlixQ9M7U', 'http://youtube.com/watch?v=Hzh9koy7b1E', 'http://youtube.com/watch?v=WyjWxZdBEGM', 'http://youtube.com/watch?v=kHL5iQJLvNU', 'http://youtube.com/watch?v=ERCzN91JicA', 'http://youtube.com/watch?v=a9c3ZrIyuSE', 'http://youtube.com/watch?v=icT-09f4GzE', 'http://youtube.com/watch?v=yBlQDcXDSkI', 'http://youtube.com/watch?v=PlJoIFnJydk', 'http://youtube.com/watch?v=tJTl-wRrlqc', 'http://youtube.com/watch?v=rdiLxyGH8Lg', 'http://youtube.com/watch?v=C2U-lL_qdTI', 'http://youtube.com/watch?v=kgUWCtIqX50', 'http://youtube.com/watch?v=DwaTdWUCUd4', 'http://youtube.com/watch?v=Y1P4kkWDmrw', 'http://youtube.com/watch?v=d9ThUvJlOUE', 'http://youtube.com/watch?v=RdrNLefoITI', 'http://youtube.com/watch?v=K8VpvncEuEg', 'http://youtube.com/watch?v=TH8UKrYuvoY', 'http://youtube.com/watch?v=V5nejgOUf7w', 'http://youtube.com/watch?v=ZnG5zbg8NoM', 'http://youtube.com/watch?v=A5WK4ltRdYY', 'http://youtube.com/watch?v=yi1DrQfVT1I', 'http://youtube.com/watch?v=k_lRfVpvIBc', 'http://youtube.com/watch?v=Mkw9phSI5io', 'http://youtube.com/watch?v=plL4B9pQQDI&list=PLRmMOveppLGPssqHfmshqewy-y0qnBrkg', 'http://youtube.com/watch?v=W_VePi4DL70', 'http://youtube.com/watch?v=EBXjr_4fxXw&list=PLDKzoAibq30hT4uPmowJBKszZXNXXCi9k', 'http://youtube.com/watch?v=tbFVj_Kavko', 'http://youtube.com/watch?v=eOvHZDGK-kY&list=PLP2tubo53WE6Uao3RjCo57K2eO7fwwjLW', 'http://youtube.com/watch?v=HLR6BRzTSYA&list=PLB0B6-PeVkfxO7EVGIVeUXSvTXkJ_LJJJ', 'http://youtube.com/watch?v=BJuAwyPWcJA', 'http://youtube.com/watch?v=rqCCUYBJoJo', 'http://youtube.com/watch?v=gvmr0Irh5oc', 'http://youtube.com/watch?v=y05krBIBVqc', 'http://youtube.com/watch?v=_3yiKSe7340', 'http://youtube.com/watch?v=s7gJhUHlwAg', 'http://youtube.com/watch?v=plL4B9pQQDI', 'http://youtube.com/watch?v=zFHwcmXVxFU', 'http://youtube.com/watch?v=fXUVqeNxDnQ', 'http://youtube.com/watch?v=kW4Se4WZ3rc', 'http://youtube.com/watch?v=UUZbGYiolg8', 'http://youtube.com/watch?v=oXakd5BMrGI', 'http://youtube.com/watch?v=kvzgbOlk3-I', 'http://youtube.com/watch?v=EwMGgivDv60', 'http://youtube.com/watch?v=w1FgmqTU92I', 'http://youtube.com/watch?v=2KSHkQ-6zGM', 'http://youtube.com/watch?v=GIvQZ4sqtDk', 'http://youtube.com/watch?v=PrWV4Hemfio', 'http://youtube.com/watch?v=0be4oWklFTs', 'http://youtube.com/watch?v=WdBLh5c14rs', 'http://youtube.com/watch?v=gNbW0aApLyQ', 'http://youtube.com/watch?v=gybIzOoHpXA', 'http://youtube.com/watch?v=-lOyC8vspxM', 'http://youtube.com/watch?v=yE6WE2iiKUA', 'http://youtube.com/watch?v=LXjWyd1aMAU', 'http://youtube.com/watch?v=yKBEzhHXIlY']\n",
      "Downloading http://youtube.com/watch?v=RdrNLefoITI\n",
      "downloading http://youtube.com/watch?v=RdrNLefoITI\n",
      "[youtube] RdrNLefoITI: Downloading webpage\n",
      "[youtube] RdrNLefoITI: Downloading video info webpage\n",
      "[youtube] Downloading just video RdrNLefoITI because of --no-playlist\n",
      "2:28\n",
      "[debug] Invoking downloader on 'https://r4---sn-8xgp1vo-ab5l.googlevideo.com/videoplayback?expire=1580630454&ei=Vi02XoeTFK-08gSMl5SgAw&ip=100.8.14.14&id=o-ABZEyFH_knDvHdX34Xbj3SL-a_NvNlat8m-KnVJi2WO-&itag=18&source=youtube&requiressl=yes&mm=31%2C29&mn=sn-8xgp1vo-ab5l%2Csn-ab5sznl7&ms=au%2Crdu&mv=m&mvi=3&pl=16&initcwndbps=1905000&vprv=1&mime=video%2Fmp4&gir=yes&clen=4137516&ratebypass=yes&dur=148.120&lmt=1579207810654143&mt=1580608746&fvip=4&fexp=23842630&c=WEB&txp=1311222&sparams=expire%2Cei%2Cip%2Cid%2Citag%2Csource%2Crequiressl%2Cvprv%2Cmime%2Cgir%2Cclen%2Cratebypass%2Cdur%2Clmt&sig=ALgxI2wwRgIhAPqa0QBO4WVTrWJU4K3lYkPaxuo0Ljy7djSrA90zZZI1AiEAmAuoKocyAbz19NWOF-dEKOGyoTDXyRvS2Emnmjfuzwc%3D&lsparams=mm%2Cmn%2Cms%2Cmv%2Cmvi%2Cpl%2Cinitcwndbps&lsig=AHylml4wRQIhAObmFqfiVFRm9fuAevSCWTrEmPrjflQfm7o73UgkffftAiAK-ITU4UOr_af_h9Ku5DxBReKdMl1e_whJEgLZAtkr2w%3D%3D'\n",
      "[download] Destination: outputs/Cloud Atlas piano cover (long version), sheet music available-RdrNLefoITI.mp4\n",
      "[download] 100% of 3.95MiB in 00:0078MiB/s ETA 00:006\n"
     ]
    },
    {
     "name": "stderr",
     "output_type": "stream",
     "text": [
      "[debug] Encodings: locale UTF-8, fs utf-8, out UTF-8, pref UTF-8\n",
      "[debug] youtube-dl version 2020.01.24\n",
      "[debug] Python version 3.8.1 (CPython) - Linux-5.4.6-2-MANJARO-x86_64-with-glibc2.2.5\n"
     ]
    },
    {
     "name": "stdout",
     "output_type": "stream",
     "text": [
      "Downloading http://youtube.com/watch?v=tbFVj_Kavko\n",
      "downloading http://youtube.com/watch?v=tbFVj_Kavko\n"
     ]
    },
    {
     "name": "stderr",
     "output_type": "stream",
     "text": [
      "[debug] exe versions: ffmpeg 4.2.1, ffprobe 4.2.1, rtmpdump 2.4\n",
      "[debug] Proxy map: {}\n"
     ]
    },
    {
     "name": "stdout",
     "output_type": "stream",
     "text": [
      "[youtube] tbFVj_Kavko: Downloading webpage\n",
      "[youtube] tbFVj_Kavko: Downloading video info webpage\n",
      "[youtube] Downloading just video tbFVj_Kavko because of --no-playlist\n",
      "2:22\n",
      "[debug] Invoking downloader on 'https://r3---sn-8xgp1vo-ab5l.googlevideo.com/videoplayback?expire=1580630456&ei=WC02XqPfEq_bgwPl3IXIBw&ip=100.8.14.14&id=o-AGHtaNO3aj1FQXwmh1MU2FsgT-WfXdMoF4b52ujBzO6F&itag=22&source=youtube&requiressl=yes&mm=31%2C29&mn=sn-8xgp1vo-ab5l%2Csn-ab5szn76&ms=au%2Crdu&mv=m&mvi=2&pl=16&initcwndbps=1905000&vprv=1&mime=video%2Fmp4&ratebypass=yes&dur=141.595&lmt=1580382120332296&mt=1580608746&fvip=3&fexp=23842630%2C23860862&c=WEB&txp=1306222&sparams=expire%2Cei%2Cip%2Cid%2Citag%2Csource%2Crequiressl%2Cvprv%2Cmime%2Cratebypass%2Cdur%2Clmt&sig=ALgxI2wwRgIhAIE5j0o8mMnSOEyu25MfFPgThDCrA_BV4x43O9i2o2BEAiEAwaUbk7YpZt1M9mPidIrbLWtFs0bbSFtGIFqa8X4y5SM%3D&lsparams=mm%2Cmn%2Cms%2Cmv%2Cmvi%2Cpl%2Cinitcwndbps&lsig=AHylml4wRgIhAMMZad_3bAfmT7q6bRFEh1NXepraR3V3e9cXOUGUh5SKAiEA1HkDaK6Y03ETXRizGQ2BxxoscWyfnwYoJdQG7axt4DI%3D'\n",
      "[download] Destination: outputs/6. urodziny VHS HELL - czyta Tomasz Knapik-tbFVj_Kavko.mp4\n",
      "[download] 100% of 5.02MiB in 00:0269MiB/s ETA 00:006\n"
     ]
    },
    {
     "name": "stderr",
     "output_type": "stream",
     "text": [
      "[debug] Encodings: locale UTF-8, fs utf-8, out UTF-8, pref UTF-8\n",
      "[debug] youtube-dl version 2020.01.24\n",
      "[debug] Python version 3.8.1 (CPython) - Linux-5.4.6-2-MANJARO-x86_64-with-glibc2.2.5\n",
      "[debug] exe versions: ffmpeg 4.2.1, ffprobe 4.2.1, rtmpdump 2.4\n",
      "[debug] Proxy map: {}\n"
     ]
    },
    {
     "name": "stdout",
     "output_type": "stream",
     "text": [
      "Downloading http://youtube.com/watch?v=gybIzOoHpXA\n",
      "downloading http://youtube.com/watch?v=gybIzOoHpXA\n",
      "[youtube] gybIzOoHpXA: Downloading webpage\n",
      "[youtube] gybIzOoHpXA: Downloading video info webpage\n",
      "[youtube] Downloading just video gybIzOoHpXA because of --no-playlist\n",
      "[youtube] gybIzOoHpXA: Downloading MPD manifest\n",
      "30\n",
      "[debug] Invoking downloader on 'https://r6---sn-8xgp1vo-ab5e.googlevideo.com/videoplayback?expire=1580630460&ei=XC02XpPXHcqxhwbGgpKgCA&ip=100.8.14.14&id=o-AHkZSj1JSSAswJ7G8cEpQmsIxXwLSk1RflSPKQLMdLpr&itag=22&source=youtube&requiressl=yes&mm=31%2C29&mn=sn-8xgp1vo-ab5e%2Csn-ab5szn7e&ms=au%2Crdu&mv=m&mvi=5&pl=16&gcr=us&initcwndbps=1713750&vprv=1&mime=video%2Fmp4&ratebypass=yes&dur=30.418&lmt=1370344354237745&mt=1580608746&fvip=6&fexp=23842630&c=WEB&sparams=expire%2Cei%2Cip%2Cid%2Citag%2Csource%2Crequiressl%2Cgcr%2Cvprv%2Cmime%2Cratebypass%2Cdur%2Clmt&sig=ALgxI2wwRgIhAPixx7fDEQZQ2T2uqZ-F65JjT2Jj75Uo4OXHWT_NX-OUAiEAyeJ-UVNX6h72_qHA4SnewfLFlqPy8hERpA-VpM_v6UY%3D&lsparams=mm%2Cmn%2Cms%2Cmv%2Cmvi%2Cpl%2Cinitcwndbps&lsig=AHylml4wRgIhANt_N4YUxTHgPOxO5P98qEjrC6Qu0Mfy1ix-wQoJiVvsAiEAu8Day0dC_SLdGSK4JoXdG_4xv1jblJtY8vKvA6ub-Tw%3D'\n",
      "[download] Destination: outputs/Adventure Time - One Last Job (long preview)-gybIzOoHpXA.mp4\n",
      "[download] 100% of 4.29MiB in 00:0190MiB/s ETA 00:005\n"
     ]
    },
    {
     "name": "stderr",
     "output_type": "stream",
     "text": [
      "[debug] Encodings: locale UTF-8, fs utf-8, out UTF-8, pref UTF-8\n",
      "[debug] youtube-dl version 2020.01.24\n",
      "[debug] Python version 3.8.1 (CPython) - Linux-5.4.6-2-MANJARO-x86_64-with-glibc2.2.5\n",
      "[debug] exe versions: ffmpeg 4.2.1, ffprobe 4.2.1, rtmpdump 2.4\n",
      "[debug] Proxy map: {}\n"
     ]
    },
    {
     "name": "stdout",
     "output_type": "stream",
     "text": [
      "Downloading http://youtube.com/watch?v=0be4oWklFTs\n",
      "downloading http://youtube.com/watch?v=0be4oWklFTs\n",
      "[youtube] 0be4oWklFTs: Downloading webpage\n",
      "[youtube] 0be4oWklFTs: Downloading video info webpage\n",
      "[youtube] Downloading just video 0be4oWklFTs because of --no-playlist\n",
      "30\n",
      "[debug] Invoking downloader on 'https://r8---sn-8xgp1vo-ab5e.googlevideo.com/videoplayback?expire=1580630463&ei=Xy02XvOPNo-g8gSIjov4BQ&ip=100.8.14.14&id=o-AGrzoLdT1j2GQT60p7JuFEUT7UQY4w0Cdz1sei3QAiZd&itag=22&source=youtube&requiressl=yes&mm=31%2C29&mn=sn-8xgp1vo-ab5e%2Csn-ab5szn7l&ms=au%2Crdu&mv=m&mvi=7&pcm2cms=yes&pl=16&gcr=us&initcwndbps=1713750&vprv=1&mime=video%2Fmp4&ratebypass=yes&dur=30.371&lmt=1574011624676497&mt=1580608746&fvip=4&fexp=23842630&beids=9466585&c=WEB&txp=1306222&sparams=expire%2Cei%2Cip%2Cid%2Citag%2Csource%2Crequiressl%2Cgcr%2Cvprv%2Cmime%2Cratebypass%2Cdur%2Clmt&sig=ALgxI2wwRgIhAI4S-uLq95VKJ5ULcEYD-tCCazsXDexwOYM_L2Kybl5HAiEA_LJ_MoMrn82cEV8qnzY2b5ZvkIZ7lDHV3xK-nou6OrM%3D&lsparams=mm%2Cmn%2Cms%2Cmv%2Cmvi%2Cpcm2cms%2Cpl%2Cinitcwndbps&lsig=AHylml4wRgIhAJ9qpugP8ao0wGxfKaG0-zaHt8oW6jwrHVC2_kNYjPKGAiEA7tCEYqz8QdXzjTtAKoLbTRdQZezZ_UFmatThaQqwBQQ%3D'\n",
      "[download] Destination: outputs/Adventure Time - Season 5 promo (long version)-0be4oWklFTs.mp4\n",
      "[download] 100% of 5.88MiB in 00:0168MiB/s ETA 00:006\n"
     ]
    },
    {
     "name": "stderr",
     "output_type": "stream",
     "text": [
      "[debug] Encodings: locale UTF-8, fs utf-8, out UTF-8, pref UTF-8\n",
      "[debug] youtube-dl version 2020.01.24\n",
      "[debug] Python version 3.8.1 (CPython) - Linux-5.4.6-2-MANJARO-x86_64-with-glibc2.2.5\n"
     ]
    },
    {
     "name": "stdout",
     "output_type": "stream",
     "text": [
      "Downloading http://youtube.com/watch?v=HLR6BRzTSYA&list=PLB0B6-PeVkfxO7EVGIVeUXSvTXkJ_LJJJ\n",
      "downloading http://youtube.com/watch?v=HLR6BRzTSYA&list=PLB0B6-PeVkfxO7EVGIVeUXSvTXkJ_LJJJ\n"
     ]
    },
    {
     "name": "stderr",
     "output_type": "stream",
     "text": [
      "[debug] exe versions: ffmpeg 4.2.1, ffprobe 4.2.1, rtmpdump 2.4\n",
      "[debug] Proxy map: {}\n"
     ]
    },
    {
     "name": "stdout",
     "output_type": "stream",
     "text": [
      "[youtube:playlist] Downloading just video HLR6BRzTSYA because of --no-playlist\n",
      "[youtube] HLR6BRzTSYA: Downloading webpage\n",
      "[youtube] HLR6BRzTSYA: Downloading video info webpage\n",
      "[youtube] Downloading just video HLR6BRzTSYA because of --no-playlist\n",
      "25:31\n",
      "[debug] Invoking downloader on 'https://r5---sn-8xgp1vo-ab5e.googlevideo.com/videoplayback?expire=1580630467&ei=Yi02XvrgOcv28gTp2IPABQ&ip=100.8.14.14&id=o-AG_zt_X2cnpb_qBWWaFqzRS2mv6E6zkA4suealVCvjs8&itag=18&source=youtube&requiressl=yes&mm=31%2C29&mn=sn-8xgp1vo-ab5e%2Csn-ab5l6nsr&ms=au%2Crdu&mv=m&mvi=4&pl=16&initcwndbps=1713750&vprv=1&mime=video%2Fmp4&gir=yes&clen=90857594&ratebypass=yes&dur=1530.798&lmt=1432896624323065&mt=1580608746&fvip=5&fexp=23842630&beids=9466586&c=WEB&sparams=expire%2Cei%2Cip%2Cid%2Citag%2Csource%2Crequiressl%2Cvprv%2Cmime%2Cgir%2Cclen%2Cratebypass%2Cdur%2Clmt&sig=ALgxI2wwRAIgQSmxIw4GW0fMTMHfmqAnfc20Wb3rQh9XmFqc9TLLz_ACIH4J5GCMA9cTrb9ouaNP025ro59MKdqUShxJ2Mk3X3fq&lsparams=mm%2Cmn%2Cms%2Cmv%2Cmvi%2Cpl%2Cinitcwndbps&lsig=AHylml4wRQIgLn5p2iTewZmS0Siz-jrU9UkJpNZAU-jzOFmo8qU0bCcCIQD4pkt9d_OpedRzkUgY9Px-ABBdnR0AiZpVje_kXHOQ-Q%3D%3D'\n",
      "[download] Destination: outputs/'Let's Sing & Dance'™ MUSIC VIDEO (1987)-HLR6BRzTSYA.mp4\n",
      "[download] 100% of 86.65MiB in 00:0227MiB/s ETA 00:009\n"
     ]
    },
    {
     "name": "stderr",
     "output_type": "stream",
     "text": [
      "[debug] Encodings: locale UTF-8, fs utf-8, out UTF-8, pref UTF-8\n",
      "[debug] youtube-dl version 2020.01.24\n",
      "[debug] Python version 3.8.1 (CPython) - Linux-5.4.6-2-MANJARO-x86_64-with-glibc2.2.5\n"
     ]
    },
    {
     "name": "stdout",
     "output_type": "stream",
     "text": [
      "Downloading http://youtube.com/watch?v=ERCzN91JicA\n",
      "downloading http://youtube.com/watch?v=ERCzN91JicA\n"
     ]
    },
    {
     "name": "stderr",
     "output_type": "stream",
     "text": [
      "[debug] exe versions: ffmpeg 4.2.1, ffprobe 4.2.1, rtmpdump 2.4\n",
      "[debug] Proxy map: {}\n"
     ]
    },
    {
     "name": "stdout",
     "output_type": "stream",
     "text": [
      "[youtube] ERCzN91JicA: Downloading webpage\n",
      "[youtube] ERCzN91JicA: Downloading video info webpage\n",
      "[youtube] Downloading just video ERCzN91JicA because of --no-playlist\n",
      "1:15\n",
      "[debug] Invoking downloader on 'https://r2---sn-8xgp1vo-xfge.googlevideo.com/videoplayback?expire=1580630471&ei=Zy02Xue3BqPshwbW5qcI&ip=100.8.14.14&id=o-AOeooPDa_SBGkVbX08czbgyg6UaBF7wJIXbgeNlKHEtn&itag=22&source=youtube&requiressl=yes&mm=31%2C29&mn=sn-8xgp1vo-xfge%2Csn-ab5szne7&ms=au%2Crdu&mv=m&mvi=1&pcm2cms=yes&pl=16&initcwndbps=2223750&vprv=1&mime=video%2Fmp4&ratebypass=yes&dur=75.325&lmt=1507683730763084&mt=1580608806&fvip=2&fexp=23842630&c=WEB&sparams=expire%2Cei%2Cip%2Cid%2Citag%2Csource%2Crequiressl%2Cvprv%2Cmime%2Cratebypass%2Cdur%2Clmt&sig=ALgxI2wwRAIgbfivfhCxGh-CybiH1ih_jVqoia53LOcJ-_0xsK1GcokCICdOf2KYkYjlOn9oYhLi1UMzp2V5IGhrZCVkvFSnNRKg&lsparams=mm%2Cmn%2Cms%2Cmv%2Cmvi%2Cpcm2cms%2Cpl%2Cinitcwndbps&lsig=AHylml4wRQIgfmldQDzy7_ypr0edKNEOt4TLtWFNTHvU0Y_8LTnYaB0CIQDdtZ6hKMGtrSTCARg44Y1iMy4t5odLOoEgo7vkFNQn9w%3D%3D'\n",
      "[download] Destination: outputs/Napoleon Dynamite - Kip's Wedding Song to Lafawnduh [HD]-ERCzN91JicA.mp4\n",
      "[download] 100% of 9.77MiB in 00:0051MiB/s ETA 00:005\n"
     ]
    },
    {
     "name": "stderr",
     "output_type": "stream",
     "text": [
      "[debug] Encodings: locale UTF-8, fs utf-8, out UTF-8, pref UTF-8\n",
      "[debug] youtube-dl version 2020.01.24\n",
      "[debug] Python version 3.8.1 (CPython) - Linux-5.4.6-2-MANJARO-x86_64-with-glibc2.2.5\n",
      "[debug] exe versions: ffmpeg 4.2.1, ffprobe 4.2.1, rtmpdump 2.4\n",
      "[debug] Proxy map: {}\n"
     ]
    },
    {
     "name": "stdout",
     "output_type": "stream",
     "text": [
      "Downloading http://youtube.com/watch?v=EBXjr_4fxXw&list=PLDKzoAibq30hT4uPmowJBKszZXNXXCi9k\n",
      "downloading http://youtube.com/watch?v=EBXjr_4fxXw&list=PLDKzoAibq30hT4uPmowJBKszZXNXXCi9k\n",
      "[youtube:playlist] Downloading just video EBXjr_4fxXw because of --no-playlist\n",
      "[youtube] EBXjr_4fxXw: Downloading webpage\n",
      "[youtube] EBXjr_4fxXw: Downloading video info webpage\n",
      "[youtube] Downloading just video EBXjr_4fxXw because of --no-playlist\n",
      "4:02\n",
      "[debug] Invoking downloader on 'https://r3---sn-8xgp1vo-ab5s.googlevideo.com/videoplayback?expire=1580630473&ei=aS02XsOhLYjAgwOlhYsY&ip=100.8.14.14&id=o-AG9-QF-qtPxG6Z2daoVghnNbhkupQ7r0hmI7eBaOpeMO&itag=22&source=youtube&requiressl=yes&mm=31%2C29&mn=sn-8xgp1vo-ab5s%2Csn-ab5l6nsy&ms=au%2Crdu&mv=m&mvi=2&pl=16&initcwndbps=1512500&vprv=1&mime=video%2Fmp4&ratebypass=yes&dur=242.369&lmt=1472198594347899&mt=1580608806&fvip=3&fexp=23842630%2C23860862&c=WEB&sparams=expire%2Cei%2Cip%2Cid%2Citag%2Csource%2Crequiressl%2Cvprv%2Cmime%2Cratebypass%2Cdur%2Clmt&sig=ALgxI2wwRAIgVljfpukw49QYs490OqB_yKl_8FFMQ1FPRdsvDOLdhHACID2ZvHaD6i5BhIEApc-U0t9T036TA5pwtowSnJQ2Jkug&lsparams=mm%2Cmn%2Cms%2Cmv%2Cmvi%2Cpl%2Cinitcwndbps&lsig=AHylml4wRgIhANum70jla2eaRu7pndJ2pqJdmWmi3jAmJJ3lz0JkDckiAiEA82LL30QIZgPisTouWBtZsVrQKPKIj3z0SMhKrIDXRuE%3D'\n",
      "[download] Destination: outputs/American Commandos Trailer-EBXjr_4fxXw.mp4\n",
      "[download] 100% of 54.57MiB in 00:0541MiB/s ETA 00:003\n"
     ]
    },
    {
     "name": "stderr",
     "output_type": "stream",
     "text": [
      "[debug] Encodings: locale UTF-8, fs utf-8, out UTF-8, pref UTF-8\n",
      "[debug] youtube-dl version 2020.01.24\n",
      "[debug] Python version 3.8.1 (CPython) - Linux-5.4.6-2-MANJARO-x86_64-with-glibc2.2.5\n"
     ]
    },
    {
     "name": "stdout",
     "output_type": "stream",
     "text": [
      "Downloading http://youtube.com/watch?v=GIvQZ4sqtDk\n",
      "downloading http://youtube.com/watch?v=GIvQZ4sqtDk\n"
     ]
    },
    {
     "name": "stderr",
     "output_type": "stream",
     "text": [
      "[debug] exe versions: ffmpeg 4.2.1, ffprobe 4.2.1, rtmpdump 2.4\n",
      "[debug] Proxy map: {}\n"
     ]
    },
    {
     "name": "stdout",
     "output_type": "stream",
     "text": [
      "[youtube] GIvQZ4sqtDk: Downloading webpage\n",
      "[youtube] GIvQZ4sqtDk: Downloading video info webpage\n",
      "[youtube] Downloading just video GIvQZ4sqtDk because of --no-playlist\n",
      "1:21\n",
      "[debug] Invoking downloader on 'https://r8---sn-8xgp1vo-ab5e.googlevideo.com/videoplayback?expire=1580630481&ei=cC02XvzTPIOyhwa3lZXQDw&ip=100.8.14.14&id=o-ADdbQiczzd5Nyp9-4BRL4DEPWgJ8tNwwEtjRwQL-8onT&itag=18&source=youtube&requiressl=yes&mm=31%2C29&mn=sn-8xgp1vo-ab5e%2Csn-ab5szne7&ms=au%2Crdu&mv=m&mvi=7&pl=16&initcwndbps=1696250&vprv=1&mime=video%2Fmp4&gir=yes&clen=3335560&ratebypass=yes&dur=80.991&lmt=1538690850449392&mt=1580608806&fvip=2&fexp=23842630&c=WEB&txp=5531432&sparams=expire%2Cei%2Cip%2Cid%2Citag%2Csource%2Crequiressl%2Cvprv%2Cmime%2Cgir%2Cclen%2Cratebypass%2Cdur%2Clmt&sig=ALgxI2wwRQIhAKZgqxh1ZPV0MxTbPMRBUgbaoGrBumvdUe7SJJ6QYXr4AiBm3PO1w_ie6t8Eh9ZtQQGuntqJbFEFnMvOl3TpGY5-7A%3D%3D&lsparams=mm%2Cmn%2Cms%2Cmv%2Cmvi%2Cpl%2Cinitcwndbps&lsig=AHylml4wRQIhAJy8IQvfck9bXX29RkXghfXdypOGIhLGSs0-7XD1RrY1AiAcmFQnJPJUhrRwuB97FB4x6d0cFYWwttQP1S-LWeSYVQ%3D%3D'\n",
      "[download] Destination: outputs/Waiting in Line _ Adventure Time _ Cartoon Network-GIvQZ4sqtDk.mp4\n",
      "[download] 100% of 3.18MiB in 00:0019MiB/s ETA 00:004\n"
     ]
    },
    {
     "name": "stderr",
     "output_type": "stream",
     "text": [
      "[debug] Encodings: locale UTF-8, fs utf-8, out UTF-8, pref UTF-8\n",
      "[debug] youtube-dl version 2020.01.24\n",
      "[debug] Python version 3.8.1 (CPython) - Linux-5.4.6-2-MANJARO-x86_64-with-glibc2.2.5\n"
     ]
    },
    {
     "name": "stdout",
     "output_type": "stream",
     "text": [
      "Downloading http://youtube.com/watch?v=V5nejgOUf7w\n",
      "downloading http://youtube.com/watch?v=V5nejgOUf7w\n"
     ]
    },
    {
     "name": "stderr",
     "output_type": "stream",
     "text": [
      "[debug] exe versions: ffmpeg 4.2.1, ffprobe 4.2.1, rtmpdump 2.4\n",
      "[debug] Proxy map: {}\n"
     ]
    },
    {
     "name": "stdout",
     "output_type": "stream",
     "text": [
      "[youtube] V5nejgOUf7w: Downloading webpage\n",
      "[youtube] V5nejgOUf7w: Downloading video info webpage\n",
      "[youtube] Downloading just video V5nejgOUf7w because of --no-playlist\n",
      "[youtube] {18} signature length 106, html5 player vfl1GpCbm\n",
      "[youtube] {137} signature length 102, html5 player vfl1GpCbm\n",
      "[youtube] {248} signature length 106, html5 player vfl1GpCbm\n",
      "[youtube] {299} signature length 102, html5 player vfl1GpCbm\n",
      "[youtube] {303} signature length 106, html5 player vfl1GpCbm\n",
      "[youtube] {136} signature length 102, html5 player vfl1GpCbm\n",
      "[youtube] {247} signature length 106, html5 player vfl1GpCbm\n",
      "[youtube] {298} signature length 106, html5 player vfl1GpCbm\n",
      "[youtube] {302} signature length 106, html5 player vfl1GpCbm\n",
      "[youtube] {135} signature length 102, html5 player vfl1GpCbm\n",
      "[youtube] {244} signature length 106, html5 player vfl1GpCbm\n",
      "[youtube] {134} signature length 106, html5 player vfl1GpCbm\n",
      "[youtube] {243} signature length 106, html5 player vfl1GpCbm\n",
      "[youtube] {133} signature length 102, html5 player vfl1GpCbm\n",
      "[youtube] {242} signature length 102, html5 player vfl1GpCbm\n",
      "[youtube] {160} signature length 102, html5 player vfl1GpCbm\n",
      "[youtube] {278} signature length 102, html5 player vfl1GpCbm\n",
      "[youtube] {140} signature length 106, html5 player vfl1GpCbm\n",
      "[youtube] {249} signature length 102, html5 player vfl1GpCbm\n",
      "[youtube] {250} signature length 106, html5 player vfl1GpCbm\n",
      "[youtube] {251} signature length 106, html5 player vfl1GpCbm\n",
      "4:39\n",
      "[debug] Invoking downloader on 'https://r2---sn-8xgp1vo-xfge.googlevideo.com/videoplayback?expire=1580630482&ei=ci02Xp3RMIfMgwOtw5OoDw&ip=100.8.14.14&id=o-AAx_StoMq0X_LhbK-y6RdCId3Fjm6g5F__8np_OKNIv_&itag=18&source=youtube&requiressl=yes&mm=31%2C29&mn=sn-8xgp1vo-xfge%2Csn-ab5sznly&ms=au%2Crdu&mv=m&mvi=1&pcm2cms=yes&pl=16&initcwndbps=2223750&vprv=1&mime=video%2Fmp4&gir=yes&clen=11782714&ratebypass=yes&dur=279.103&lmt=1575780599620861&mt=1580608806&fvip=2&fexp=23842630&c=WEB&txp=1311222&sparams=expire%2Cei%2Cip%2Cid%2Citag%2Csource%2Crequiressl%2Cvprv%2Cmime%2Cgir%2Cclen%2Cratebypass%2Cdur%2Clmt&lsparams=mm%2Cmn%2Cms%2Cmv%2Cmvi%2Cpcm2cms%2Cpl%2Cinitcwndbps&lsig=AHylml4wRQIhAIhp9aiiJ1xVpKtYZmaZUsmw8XiF5nit93kog5CtKB40AiAV4jlqru8_ISomhgPwYvivV_g2SsgTgQP-kKBQbx6uBA%3D%3D&sig=ALgxI2wwRQIhAMXdDBReWegg69vgA83BmL55K_U24c9Cq-AhqAZs4sweAiBrQqEouk1vHO9wVCDnIg4JJeEBhhSYhWZPoHSNg8EgOw=='\n",
      "[download] Destination: outputs/Outro - M83 (Cloud Atlas Trailer _ Red Bull Commerical Music) - on piano _ Long Story Short-V5nejgOUf7w.mp4\n",
      "[download] 100% of 11.24MiB in 00:0378MiB/s ETA 00:006\n"
     ]
    },
    {
     "name": "stderr",
     "output_type": "stream",
     "text": [
      "[debug] Encodings: locale UTF-8, fs utf-8, out UTF-8, pref UTF-8\n",
      "[debug] youtube-dl version 2020.01.24\n",
      "[debug] Python version 3.8.1 (CPython) - Linux-5.4.6-2-MANJARO-x86_64-with-glibc2.2.5\n",
      "[debug] exe versions: ffmpeg 4.2.1, ffprobe 4.2.1, rtmpdump 2.4\n",
      "[debug] Proxy map: {}\n"
     ]
    },
    {
     "name": "stdout",
     "output_type": "stream",
     "text": [
      "Downloading http://youtube.com/watch?v=Mkw9phSI5io\n",
      "downloading http://youtube.com/watch?v=Mkw9phSI5io\n",
      "[youtube] Mkw9phSI5io: Downloading webpage\n",
      "[youtube] Mkw9phSI5io: Downloading video info webpage\n",
      "[youtube] Downloading just video Mkw9phSI5io because of --no-playlist\n",
      "7\n",
      "[debug] Invoking downloader on 'https://redirector.googlevideo.com/videoplayback?expire=1580630487&ei=dy02XrSvNcKF8gTv8YnICw&ip=100.8.14.14&id=324c3da61488e62a&itag=18&source=youtube&requiressl=yes&vprv=1&mime=video%2Fmp4&gir=yes&clen=303304&ratebypass=yes&dur=6.757&lmt=1394486819338524&fexp=23842630&beids=9466585&c=WEB&sparams=expire%2Cei%2Cip%2Cid%2Citag%2Csource%2Crequiressl%2Cvprv%2Cmime%2Cgir%2Cclen%2Cratebypass%2Cdur%2Clmt&sig=ALgxI2wwRQIhANBRcuypB4payW5tjxQpIr09_lUhB1B67Zre6qUqI7FkAiBs9cREayLuLRRoAGNjkoTTs4Q786F6VLSi8uiXIOH5iQ%3D%3D'\n",
      "[download] Destination: outputs/VHS HELL intro-Mkw9phSI5io.mp4\n",
      "[download] 100% of 296.20KiB in 00:0029MiB/s ETA 00:000\n"
     ]
    },
    {
     "name": "stderr",
     "output_type": "stream",
     "text": [
      "[debug] Encodings: locale UTF-8, fs utf-8, out UTF-8, pref UTF-8\n",
      "[debug] youtube-dl version 2020.01.24\n",
      "[debug] Python version 3.8.1 (CPython) - Linux-5.4.6-2-MANJARO-x86_64-with-glibc2.2.5\n",
      "[debug] exe versions: ffmpeg 4.2.1, ffprobe 4.2.1, rtmpdump 2.4\n",
      "[debug] Proxy map: {}\n"
     ]
    },
    {
     "name": "stdout",
     "output_type": "stream",
     "text": [
      "Downloading http://youtube.com/watch?v=Br6JL1dZroI\n",
      "downloading http://youtube.com/watch?v=Br6JL1dZroI\n",
      "[youtube] Br6JL1dZroI: Downloading webpage\n",
      "[youtube] Br6JL1dZroI: Downloading video info webpage\n",
      "[youtube] Downloading just video Br6JL1dZroI because of --no-playlist\n",
      "7:07\n",
      "[debug] Invoking downloader on 'https://r4---sn-8xgp1vo-ab5l.googlevideo.com/videoplayback?expire=1580630490&ei=ei02Xq4KyJWHBvHKs9gI&ip=100.8.14.14&id=o-AOmrRxkARKv5ApLGZ4LRT2kEU4HtjZxU_RJ55XfZgmx4&itag=22&source=youtube&requiressl=yes&mm=31%2C29&mn=sn-8xgp1vo-ab5l%2Csn-ab5szn7l&ms=au%2Crdu&mv=m&mvi=3&pl=16&initcwndbps=1913750&vprv=1&mime=video%2Fmp4&ratebypass=yes&dur=427.038&lmt=1576942359109462&mt=1580608806&fvip=4&fexp=23842630&c=WEB&txp=5432432&sparams=expire%2Cei%2Cip%2Cid%2Citag%2Csource%2Crequiressl%2Cvprv%2Cmime%2Cratebypass%2Cdur%2Clmt&sig=ALgxI2wwRQIgU-4WpYt4QIW8vuBkdOYU8Rkxp2CHIcAw6Qfm0tVbyRUCIQD0r0ubnmkb0LZl-62q6aS5fMeu01JSiAdRNJX3rNOpMQ%3D%3D&lsparams=mm%2Cmn%2Cms%2Cmv%2Cmvi%2Cpl%2Cinitcwndbps&lsig=AHylml4wRAIgfXYrMZ-ug4advuqTxx1Wi8PWwno4qU8AAMljaTVrpoYCIA_4C4_t-F-3XBCdAH0iKZExi1aIuWmnfv1L723SwKyn'\n",
      "[download] Destination: outputs/How 'Napoleon Dynamite' became Hollywood's template for Middle America-Br6JL1dZroI.mp4\n",
      "[download] 100% of 40.96MiB in 00:0307MiB/s ETA 00:006\n",
      "Downloading http://youtube.com/watch?v=K8VpvncEuEg\n",
      "downloading http://youtube.com/watch?v=K8VpvncEuEg\n"
     ]
    },
    {
     "name": "stderr",
     "output_type": "stream",
     "text": [
      "[debug] Encodings: locale UTF-8, fs utf-8, out UTF-8, pref UTF-8\n",
      "[debug] youtube-dl version 2020.01.24\n",
      "[debug] Python version 3.8.1 (CPython) - Linux-5.4.6-2-MANJARO-x86_64-with-glibc2.2.5\n",
      "[debug] exe versions: ffmpeg 4.2.1, ffprobe 4.2.1, rtmpdump 2.4\n",
      "[debug] Proxy map: {}\n"
     ]
    },
    {
     "name": "stdout",
     "output_type": "stream",
     "text": [
      "[youtube] K8VpvncEuEg: Downloading webpage\n",
      "[youtube] K8VpvncEuEg: Downloading video info webpage\n",
      "[youtube] Downloading just video K8VpvncEuEg because of --no-playlist\n",
      "[youtube] {18} signature length 106, html5 player vfl1GpCbm\n",
      "[youtube] {22} signature length 102, html5 player vfl1GpCbm\n",
      "[youtube] {43} signature length 102, html5 player vfl1GpCbm\n",
      "[youtube] {136} signature length 106, html5 player vfl1GpCbm\n",
      "[youtube] {247} signature length 106, html5 player vfl1GpCbm\n",
      "[youtube] {135} signature length 106, html5 player vfl1GpCbm\n",
      "[youtube] {244} signature length 106, html5 player vfl1GpCbm\n",
      "[youtube] {134} signature length 106, html5 player vfl1GpCbm\n",
      "[youtube] {243} signature length 106, html5 player vfl1GpCbm\n",
      "[youtube] {133} signature length 106, html5 player vfl1GpCbm\n",
      "[youtube] {242} signature length 102, html5 player vfl1GpCbm\n",
      "[youtube] {160} signature length 106, html5 player vfl1GpCbm\n",
      "[youtube] {278} signature length 106, html5 player vfl1GpCbm\n",
      "[youtube] {140} signature length 106, html5 player vfl1GpCbm\n",
      "[youtube] {249} signature length 106, html5 player vfl1GpCbm\n",
      "[youtube] {250} signature length 102, html5 player vfl1GpCbm\n",
      "[youtube] {251} signature length 106, html5 player vfl1GpCbm\n",
      "3:47\n",
      "[debug] Invoking downloader on 'https://r1---sn-8xgp1vo-xfgs.googlevideo.com/videoplayback?expire=1580630494&ei=fi02XvK0KdmzhwbH1aDYBA&ip=100.8.14.14&id=o-AE4UfpKo4acFfoJSkCZSkx4rO816uM9TME1QiyeK6tbl&itag=22&source=youtube&requiressl=yes&mm=31%2C29&mn=sn-8xgp1vo-xfgs%2Csn-ab5sznld&ms=au%2Crdu&mv=m&mvi=0&pl=16&initcwndbps=2406250&vprv=1&mime=video%2Fmp4&ratebypass=yes&dur=227.253&lmt=1471594949581527&mt=1580608806&fvip=1&fexp=23842630&beids=9466586&c=WEB&sparams=expire%2Cei%2Cip%2Cid%2Citag%2Csource%2Crequiressl%2Cvprv%2Cmime%2Cratebypass%2Cdur%2Clmt&lsparams=mm%2Cmn%2Cms%2Cmv%2Cmvi%2Cpl%2Cinitcwndbps&lsig=AHylml4wRgIhAIE_WyWvjfvA4M9JdzObESlhsh5hG6OkSqyjY6v8NzWWAiEA7nxtoYr0fDlPvbe1Azv6mh9yrzciAlP44IeUjR-QXb0%3D&sig=ALgxI2wwRAIgXlboBy2h-DpyZ2ov0V_Dy1h87p5Ku1h0PfQky7UpeYoCIDb7yAUHQWFo0dcKUF-KlkMXlcALHh9pqh9146sIEVZI'\n",
      "[download] Destination: outputs/Cloud Atlas - 02 - Cloud Atlas Opening Title-K8VpvncEuEg.mp4\n",
      "[download] 100% of 23.95MiB in 00:0543MiB/s ETA 00:007\n"
     ]
    },
    {
     "name": "stderr",
     "output_type": "stream",
     "text": [
      "[debug] Encodings: locale UTF-8, fs utf-8, out UTF-8, pref UTF-8\n",
      "[debug] youtube-dl version 2020.01.24\n",
      "[debug] Python version 3.8.1 (CPython) - Linux-5.4.6-2-MANJARO-x86_64-with-glibc2.2.5\n"
     ]
    },
    {
     "name": "stdout",
     "output_type": "stream",
     "text": [
      "Downloading http://youtube.com/watch?v=fXUVqeNxDnQ\n",
      "downloading http://youtube.com/watch?v=fXUVqeNxDnQ\n"
     ]
    },
    {
     "name": "stderr",
     "output_type": "stream",
     "text": [
      "[debug] exe versions: ffmpeg 4.2.1, ffprobe 4.2.1, rtmpdump 2.4\n",
      "[debug] Proxy map: {}\n"
     ]
    },
    {
     "name": "stdout",
     "output_type": "stream",
     "text": [
      "[youtube] fXUVqeNxDnQ: Downloading webpage\n",
      "[youtube] fXUVqeNxDnQ: Downloading video info webpage\n",
      "[youtube] Downloading just video fXUVqeNxDnQ because of --no-playlist\n",
      "48:13\n",
      "[debug] Invoking downloader on 'https://r6---sn-8xgp1vo-xfge.googlevideo.com/videoplayback?expire=1580630501&ei=hS02XojEIoXB8wSNr53QBA&ip=100.8.14.14&id=o-AH_28YcnEM7lac5GejP0n-jiGzkqJ9GaHst7-GKMnNwS&itag=22&source=youtube&requiressl=yes&mm=31%2C29&mn=sn-8xgp1vo-xfge%2Csn-ab5l6ndy&ms=au%2Crdu&mv=m&mvi=5&pl=16&initcwndbps=2223750&vprv=1&mime=video%2Fmp4&ratebypass=yes&dur=2892.602&lmt=1550354238576661&mt=1580608858&fvip=4&fexp=23842630&c=WEB&txp=5535432&sparams=expire%2Cei%2Cip%2Cid%2Citag%2Csource%2Crequiressl%2Cvprv%2Cmime%2Cratebypass%2Cdur%2Clmt&sig=ALgxI2wwRAIgJMU0yrXnNOu6MD_BtXdfV_x4tXMFSD7KD1ZgSilTgC8CIGgQ99XAoRlwW1Vml3JOZHaVon-x0UXHqOQbNNKhjg94&lsparams=mm%2Cmn%2Cms%2Cmv%2Cmvi%2Cpl%2Cinitcwndbps&lsig=AHylml4wRAIgODcw7gMEkRMmS8MHWp4RSniRRINhhdMXRbsOkuTN2mECIAtq6QJtOx4CAgo2nikFHxesAWmKSTS6GSiWoTPJheEI'\n",
      "[download] Destination: outputs/BRAND NEW ADVENTURE TIME GAME!!!-fXUVqeNxDnQ.mp4\n",
      "[download] 100% of 246.64MiB in 00:0562MiB/s ETA 00:006\n"
     ]
    },
    {
     "name": "stderr",
     "output_type": "stream",
     "text": [
      "[debug] Encodings: locale UTF-8, fs utf-8, out UTF-8, pref UTF-8\n",
      "[debug] youtube-dl version 2020.01.24\n",
      "[debug] Python version 3.8.1 (CPython) - Linux-5.4.6-2-MANJARO-x86_64-with-glibc2.2.5\n"
     ]
    },
    {
     "name": "stdout",
     "output_type": "stream",
     "text": [
      "Downloading http://youtube.com/watch?v=TcWPiHjIExA\n",
      "downloading http://youtube.com/watch?v=TcWPiHjIExA\n"
     ]
    },
    {
     "name": "stderr",
     "output_type": "stream",
     "text": [
      "[debug] exe versions: ffmpeg 4.2.1, ffprobe 4.2.1, rtmpdump 2.4\n",
      "[debug] Proxy map: {}\n"
     ]
    },
    {
     "name": "stdout",
     "output_type": "stream",
     "text": [
      "[youtube] TcWPiHjIExA: Downloading webpage\n",
      "[youtube] TcWPiHjIExA: Downloading video info webpage\n",
      "[youtube] Downloading just video TcWPiHjIExA because of --no-playlist\n",
      "[youtube] {18} signature length 106, html5 player vfl1GpCbm\n",
      "[youtube] {22} signature length 102, html5 player vfl1GpCbm\n",
      "[youtube] {43} signature length 106, html5 player vfl1GpCbm\n",
      "[youtube] {136} signature length 106, html5 player vfl1GpCbm\n",
      "[youtube] {247} signature length 106, html5 player vfl1GpCbm\n",
      "[youtube] {135} signature length 106, html5 player vfl1GpCbm\n",
      "[youtube] {244} signature length 106, html5 player vfl1GpCbm\n",
      "[youtube] {397} signature length 106, html5 player vfl1GpCbm\n",
      "[youtube] {134} signature length 106, html5 player vfl1GpCbm\n",
      "[youtube] {243} signature length 106, html5 player vfl1GpCbm\n",
      "[youtube] {396} signature length 106, html5 player vfl1GpCbm\n",
      "[youtube] {133} signature length 106, html5 player vfl1GpCbm\n",
      "[youtube] {242} signature length 106, html5 player vfl1GpCbm\n",
      "[youtube] {395} signature length 102, html5 player vfl1GpCbm\n",
      "[youtube] {160} signature length 106, html5 player vfl1GpCbm\n",
      "[youtube] {278} signature length 106, html5 player vfl1GpCbm\n",
      "[youtube] {394} signature length 106, html5 player vfl1GpCbm\n",
      "[youtube] {140} signature length 106, html5 player vfl1GpCbm\n",
      "[youtube] {249} signature length 106, html5 player vfl1GpCbm\n",
      "[youtube] {250} signature length 106, html5 player vfl1GpCbm\n",
      "[youtube] {251} signature length 106, html5 player vfl1GpCbm\n",
      "2:30\n",
      "[debug] Invoking downloader on 'https://r1---sn-8xgp1vo-ab5e.googlevideo.com/videoplayback?expire=1580630508&ei=jC02XrX1NvyA_9EP75mkwA4&ip=100.8.14.14&id=o-AG__WGbqTQDlGJ13VnKW2SzjpAlfK1MyGoTyjVo1u5gr&itag=18&source=youtube&requiressl=yes&mm=31%2C29&mn=sn-8xgp1vo-ab5e%2Csn-ab5l6ndr&ms=au%2Crdu&mv=m&mvi=0&pl=16&initcwndbps=1696250&vprv=1&mime=video%2Fmp4&gir=yes&clen=6282470&ratebypass=yes&dur=150.279&lmt=1553464529825855&mt=1580608806&fvip=1&fexp=23842630&c=WEB&txp=5531432&sparams=expire%2Cei%2Cip%2Cid%2Citag%2Csource%2Crequiressl%2Cvprv%2Cmime%2Cgir%2Cclen%2Cratebypass%2Cdur%2Clmt&lsparams=mm%2Cmn%2Cms%2Cmv%2Cmvi%2Cpl%2Cinitcwndbps&lsig=AHylml4wRQIgGdeunseZobOHj_Yoxjvtp3P6zA2vIkTZynNOyy4bZokCIQD1qHV3VWO4FjIkRimSJBTorXoboXPos1PzEwR3JUFWzg%3D%3D&sig=ALgxI2wwRQIhAKYp_8xdIas0TIKHpU4dje3oPfnA7iB_aPeNLyhwGDurAiBdc4_yFnXsvH7PmeNB9CARV7HqyRE0oZpd0BahzH1-0A=='\n",
      "[download] Destination: outputs/Napoleon Dynamite Dance-TcWPiHjIExA.mp4\n",
      "[download] 100% of 5.99MiB in 00:0086MiB/s ETA 00:008\n"
     ]
    },
    {
     "name": "stderr",
     "output_type": "stream",
     "text": [
      "[debug] Encodings: locale UTF-8, fs utf-8, out UTF-8, pref UTF-8\n",
      "[debug] youtube-dl version 2020.01.24\n",
      "[debug] Python version 3.8.1 (CPython) - Linux-5.4.6-2-MANJARO-x86_64-with-glibc2.2.5\n"
     ]
    },
    {
     "name": "stdout",
     "output_type": "stream",
     "text": [
      "Downloading http://youtube.com/watch?v=C2U-lL_qdTI\n",
      "downloading http://youtube.com/watch?v=C2U-lL_qdTI\n"
     ]
    },
    {
     "name": "stderr",
     "output_type": "stream",
     "text": [
      "[debug] exe versions: ffmpeg 4.2.1, ffprobe 4.2.1, rtmpdump 2.4\n",
      "[debug] Proxy map: {}\n"
     ]
    },
    {
     "name": "stdout",
     "output_type": "stream",
     "text": [
      "[youtube] C2U-lL_qdTI: Downloading webpage\n",
      "[youtube] C2U-lL_qdTI: Downloading video info webpage\n",
      "[youtube] Downloading just video C2U-lL_qdTI because of --no-playlist\n",
      "6:01\n",
      "[debug] Invoking downloader on 'https://r3---sn-8xgp1vo-ab5s.googlevideo.com/videoplayback?expire=1580630510&ei=ji02Xv3RL7GxhwamlL_oBw&ip=100.8.14.14&id=o-ALg2lBLhhFZBkVZf-f4duP05gFHI03wT_6Pm3CyfgRkl&itag=18&source=youtube&requiressl=yes&mm=31%2C29&mn=sn-8xgp1vo-ab5s%2Csn-ab5l6nzk&ms=au%2Crdu&mv=m&mvi=2&pl=16&initcwndbps=1512500&vprv=1&mime=video%2Fmp4&gir=yes&clen=7998985&ratebypass=yes&dur=361.325&lmt=1530376750421005&mt=1580608806&fvip=3&fexp=23842630&c=WEB&sparams=expire%2Cei%2Cip%2Cid%2Citag%2Csource%2Crequiressl%2Cvprv%2Cmime%2Cgir%2Cclen%2Cratebypass%2Cdur%2Clmt&sig=ALgxI2wwRQIhAIqSnIQWnfU9K3UjFOg0GahGZpG3qdvhftWTuDVTHyodAiBFehH1X7RKAMpVt45qbIaDqv2qRqIVioeFTdBNaqhCAg%3D%3D&lsparams=mm%2Cmn%2Cms%2Cmv%2Cmvi%2Cpl%2Cinitcwndbps&lsig=AHylml4wRQIhAOxIf1d3bZ7LHzKld8FoLMOXbf1gFruc7w3XItMsuz6gAiBVYiuo-HZ012xnxJNo2XOAxczg-LVPFYFQx3LWFhstqA%3D%3D'\n",
      "[download] Destination: outputs/The Cloud Atlas Sextet-C2U-lL_qdTI.mp4\n",
      "[download] 100% of 7.63MiB in 00:0004MiB/s ETA 00:000\n"
     ]
    },
    {
     "name": "stderr",
     "output_type": "stream",
     "text": [
      "[debug] Encodings: locale UTF-8, fs utf-8, out UTF-8, pref UTF-8\n",
      "[debug] youtube-dl version 2020.01.24\n",
      "[debug] Python version 3.8.1 (CPython) - Linux-5.4.6-2-MANJARO-x86_64-with-glibc2.2.5\n"
     ]
    },
    {
     "name": "stdout",
     "output_type": "stream",
     "text": [
      "Downloading http://youtube.com/watch?v=EwMGgivDv60\n",
      "downloading http://youtube.com/watch?v=EwMGgivDv60\n"
     ]
    },
    {
     "name": "stderr",
     "output_type": "stream",
     "text": [
      "[debug] exe versions: ffmpeg 4.2.1, ffprobe 4.2.1, rtmpdump 2.4\n",
      "[debug] Proxy map: {}\n"
     ]
    },
    {
     "name": "stdout",
     "output_type": "stream",
     "text": [
      "[youtube] EwMGgivDv60: Downloading webpage\n",
      "[youtube] EwMGgivDv60: Downloading video info webpage\n",
      "[youtube] Downloading just video EwMGgivDv60 because of --no-playlist\n",
      "15:01\n",
      "[debug] Invoking downloader on 'https://r8---sn-8xgp1vo-xfge.googlevideo.com/videoplayback?expire=1580630512&ei=kC02XvyPK8678wTN4YjYDw&ip=100.8.14.14&id=o-AFk6MPGW5sqUm1ear99d2oWI_Ln1oEAup0u07-cc1g_6&itag=22&source=youtube&requiressl=yes&mm=31%2C29&mn=sn-8xgp1vo-xfge%2Csn-ab5l6nzd&ms=au%2Crdu&mv=m&mvi=7&pl=16&gcr=us&initcwndbps=2223750&vprv=1&mime=video%2Fmp4&ratebypass=yes&dur=900.771&lmt=1572098243475183&mt=1580608806&fvip=3&fexp=23842630&c=WEB&txp=5535432&sparams=expire%2Cei%2Cip%2Cid%2Citag%2Csource%2Crequiressl%2Cgcr%2Cvprv%2Cmime%2Cratebypass%2Cdur%2Clmt&sig=ALgxI2wwRQIgZu38zZ_P70WOm5aMwZ5TLnIQPEPtXrQ6tuOTh2hcbx0CIQD_MWLeCgK9xQYgXjmNZCuEmBvgcz6Gfb4IQUil_XkmKQ%3D%3D&lsparams=mm%2Cmn%2Cms%2Cmv%2Cmvi%2Cpl%2Cinitcwndbps&lsig=AHylml4wRQIhAPcxbw27zvvUaKTCF9Acd2HSQlQpk9R6QgRym6G7tkvSAiA8SIMfoJ6pnXJlmcCuqSJBlZBm4a4LQGWG70MBRI5OBQ%3D%3D'\n",
      "[download] Destination: outputs/Adventure time but only with Finn's hair-EwMGgivDv60.mp4\n",
      "[download] 100% of 50.37MiB in 00:0107MiB/s ETA 00:005\n"
     ]
    },
    {
     "name": "stderr",
     "output_type": "stream",
     "text": [
      "[debug] Encodings: locale UTF-8, fs utf-8, out UTF-8, pref UTF-8\n",
      "[debug] youtube-dl version 2020.01.24\n",
      "[debug] Python version 3.8.1 (CPython) - Linux-5.4.6-2-MANJARO-x86_64-with-glibc2.2.5\n"
     ]
    },
    {
     "name": "stdout",
     "output_type": "stream",
     "text": [
      "Downloading http://youtube.com/watch?v=gvmr0Irh5oc\n",
      "downloading http://youtube.com/watch?v=gvmr0Irh5oc\n"
     ]
    },
    {
     "name": "stderr",
     "output_type": "stream",
     "text": [
      "[debug] exe versions: ffmpeg 4.2.1, ffprobe 4.2.1, rtmpdump 2.4\n",
      "[debug] Proxy map: {}\n"
     ]
    },
    {
     "name": "stdout",
     "output_type": "stream",
     "text": [
      "[youtube] gvmr0Irh5oc: Downloading webpage\n",
      "[youtube] gvmr0Irh5oc: Downloading video info webpage\n",
      "[youtube] Downloading just video gvmr0Irh5oc because of --no-playlist\n",
      "[youtube] gvmr0Irh5oc: Downloading MPD manifest\n",
      "11:54\n",
      "[debug] Invoking downloader on 'https://r7---sn-8xgp1vo-xfge.googlevideo.com/videoplayback?expire=1580630515&ei=ky02XrDBH4WHhga3gY_YCQ&ip=100.8.14.14&id=o-ALtHdEWU1hN5dZLxjaKIiVhJ3ixU3eB6m_sUzNghMSXn&itag=18&source=youtube&requiressl=yes&mm=31%2C29&mn=sn-8xgp1vo-xfge%2Csn-ab5l6nsy&ms=au%2Crdu&mv=m&mvi=6&pl=16&initcwndbps=2223750&vprv=1&mime=video%2Fmp4&gir=yes&clen=36048592&ratebypass=yes&dur=713.665&lmt=1579723265818740&mt=1580608806&fvip=4&fexp=23842630%2C23860862&c=WEB&txp=6216222&sparams=expire%2Cei%2Cip%2Cid%2Citag%2Csource%2Crequiressl%2Cvprv%2Cmime%2Cgir%2Cclen%2Cratebypass%2Cdur%2Clmt&sig=ALgxI2wwRgIhALq_vBapUmGZoCYo7PNKsfFBTrcCfJpBa-JqSeRVYZZQAiEAwETz7etSiPk5KSIfPqQj2LaM5vTnNt54j5-ErfOG7Wo%3D&lsparams=mm%2Cmn%2Cms%2Cmv%2Cmvi%2Cpl%2Cinitcwndbps&lsig=AHylml4wRAIgHdm7mCNKmd33-44kJHZCDfq7vsKMuQuyygoWIljFbGwCIFahXv0-zrE41ZRaj_xi0o9QWVg8Tf9r-BqUYYDuafmn'\n",
      "[download] Destination: outputs/Cox Video Co-Pilot E Z BEE II 1990-gvmr0Irh5oc.mp4\n",
      "[download] 100% of 34.38MiB in 00:0331MiB/s ETA 00:001\n"
     ]
    },
    {
     "name": "stderr",
     "output_type": "stream",
     "text": [
      "[debug] Encodings: locale UTF-8, fs utf-8, out UTF-8, pref UTF-8\n",
      "[debug] youtube-dl version 2020.01.24\n",
      "[debug] Python version 3.8.1 (CPython) - Linux-5.4.6-2-MANJARO-x86_64-with-glibc2.2.5\n"
     ]
    },
    {
     "name": "stdout",
     "output_type": "stream",
     "text": [
      "Downloading http://youtube.com/watch?v=plL4B9pQQDI&list=PLRmMOveppLGPssqHfmshqewy-y0qnBrkg\n",
      "downloading http://youtube.com/watch?v=plL4B9pQQDI&list=PLRmMOveppLGPssqHfmshqewy-y0qnBrkg\n"
     ]
    },
    {
     "name": "stderr",
     "output_type": "stream",
     "text": [
      "[debug] exe versions: ffmpeg 4.2.1, ffprobe 4.2.1, rtmpdump 2.4\n",
      "[debug] Proxy map: {}\n"
     ]
    },
    {
     "name": "stdout",
     "output_type": "stream",
     "text": [
      "[youtube:playlist] Downloading just video plL4B9pQQDI because of --no-playlist\n",
      "[youtube] plL4B9pQQDI: Downloading webpage\n",
      "[youtube] plL4B9pQQDI: Downloading video info webpage\n",
      "[youtube] Downloading just video plL4B9pQQDI because of --no-playlist\n",
      "[youtube] plL4B9pQQDI: Downloading MPD manifest\n",
      "21\n",
      "[debug] Invoking downloader on 'https://r1---sn-8xgp1vo-ab5s.googlevideo.com/videoplayback?expire=1580630520&ei=mC02XranJIvs8gSTtb-QBQ&ip=100.8.14.14&id=o-AK7VkvnXUT8nJYDDEzjaYjRLe-w2x3rmHZK8LVOMX15z&itag=18&source=youtube&requiressl=yes&mm=31%2C29&mn=sn-8xgp1vo-ab5s%2Csn-ab5szn7e&ms=au%2Crdu&mv=m&mvi=0&pl=16&initcwndbps=1512500&vprv=1&mime=video%2Fmp4&gir=yes&clen=1036280&ratebypass=yes&dur=21.060&lmt=1530211413085850&mt=1580608806&fvip=6&fexp=23842630&c=WEB&sparams=expire%2Cei%2Cip%2Cid%2Citag%2Csource%2Crequiressl%2Cvprv%2Cmime%2Cgir%2Cclen%2Cratebypass%2Cdur%2Clmt&sig=ALgxI2wwRQIhAOkPaXY94xVGVJ1wSSM64XAMEZTtSFUz1ko67sMXvIFUAiBNcf1nexEZQa5AYRvgniR9-mSoTfQp0II2kkeVL3gqXA%3D%3D&lsparams=mm%2Cmn%2Cms%2Cmv%2Cmvi%2Cpl%2Cinitcwndbps&lsig=AHylml4wRgIhAMRrNjKfnsgQ1IdndF6Hpd69ZfpCUnjtogRuL07_VjrnAiEAgLsTmw07QXu0Zjrg2BUcr877nqrLnfP7kwjOvqZb77w%3D'\n",
      "[download] Destination: outputs/VHS Hell (intro)-plL4B9pQQDI.mp4\n",
      "[download] 100% of 1011.99KiB in 00:0097MiB/s ETA 00:001\n"
     ]
    },
    {
     "name": "stderr",
     "output_type": "stream",
     "text": [
      "[debug] Encodings: locale UTF-8, fs utf-8, out UTF-8, pref UTF-8\n",
      "[debug] youtube-dl version 2020.01.24\n"
     ]
    },
    {
     "name": "stdout",
     "output_type": "stream",
     "text": [
      "Downloading http://youtube.com/watch?v=_3yiKSe7340\n",
      "downloading http://youtube.com/watch?v=_3yiKSe7340\n"
     ]
    },
    {
     "name": "stderr",
     "output_type": "stream",
     "text": [
      "[debug] Python version 3.8.1 (CPython) - Linux-5.4.6-2-MANJARO-x86_64-with-glibc2.2.5\n",
      "[debug] exe versions: ffmpeg 4.2.1, ffprobe 4.2.1, rtmpdump 2.4\n",
      "[debug] Proxy map: {}\n"
     ]
    },
    {
     "name": "stdout",
     "output_type": "stream",
     "text": [
      "[youtube] _3yiKSe7340: Downloading webpage\n",
      "[youtube] _3yiKSe7340: Downloading video info webpage\n",
      "[youtube] Downloading just video _3yiKSe7340 because of --no-playlist\n",
      "[youtube] {18} signature length 106, html5 player vfl1GpCbm\n",
      "[youtube] {43} signature length 106, html5 player vfl1GpCbm\n",
      "[youtube] {135} signature length 106, html5 player vfl1GpCbm\n",
      "[youtube] {244} signature length 106, html5 player vfl1GpCbm\n",
      "[youtube] {134} signature length 102, html5 player vfl1GpCbm\n",
      "[youtube] {243} signature length 106, html5 player vfl1GpCbm\n",
      "[youtube] {133} signature length 106, html5 player vfl1GpCbm\n",
      "[youtube] {242} signature length 106, html5 player vfl1GpCbm\n",
      "[youtube] {160} signature length 102, html5 player vfl1GpCbm\n",
      "[youtube] {278} signature length 106, html5 player vfl1GpCbm\n",
      "[youtube] {140} signature length 106, html5 player vfl1GpCbm\n",
      "[youtube] {251} signature length 106, html5 player vfl1GpCbm\n",
      "[youtube] _3yiKSe7340: Downloading MPD manifest\n",
      "14:55\n",
      "[debug] Invoking downloader on 'https://r3---sn-8xgp1vo-xfgs.googlevideo.com/videoplayback?expire=1580630523&ei=my02Xpv5EJD3hwbPpavgDA&ip=100.8.14.14&id=o-AMKIZlX0Esvyx5e4g7nR8MJxwtFdNLBjTrBelfKTxU72&itag=18&source=youtube&requiressl=yes&mm=31%2C29&mn=sn-8xgp1vo-xfgs%2Csn-ab5szn7e&ms=au%2Crdu&mv=m&mvi=2&pcm2cms=yes&pl=16&initcwndbps=2406250&vprv=1&mime=video%2Fmp4&gir=yes&clen=47600622&ratebypass=yes&dur=895.222&lmt=1574441169841255&mt=1580608806&fvip=3&fexp=23842630&c=WEB&txp=6216222&sparams=expire%2Cei%2Cip%2Cid%2Citag%2Csource%2Crequiressl%2Cvprv%2Cmime%2Cgir%2Cclen%2Cratebypass%2Cdur%2Clmt&lsparams=mm%2Cmn%2Cms%2Cmv%2Cmvi%2Cpcm2cms%2Cpl%2Cinitcwndbps&lsig=AHylml4wRAIgWNlBcQG0wrxBW0caCute-DXZrWzgszrBZVlnLMGMQm8CIEdyp8Lj4svC-qctFYdjtXj6zHJmVyib6j04Wn4GLUJO&sig=ALgxI2wwRQIhAMEaNsgCPcLjWCdHrhM-HSeqhSpchgtBZMDHr06PdFnmAiB5ee4NXcrJuouA6HwTke5J9Aj7hhOipmedV2hga9RPBQ=='\n",
      "[download] Destination: outputs/Body Flex 2 (The 15 Minute Workout)-_3yiKSe7340.mp4\n",
      "[download] 100% of 45.40MiB in 00:0150MiB/s ETA 00:000\n"
     ]
    },
    {
     "name": "stderr",
     "output_type": "stream",
     "text": [
      "[debug] Encodings: locale UTF-8, fs utf-8, out UTF-8, pref UTF-8\n"
     ]
    },
    {
     "name": "stdout",
     "output_type": "stream",
     "text": [
      "Downloading http://youtube.com/watch?v=WdBLh5c14rs\n",
      "downloading http://youtube.com/watch?v=WdBLh5c14rs\n"
     ]
    },
    {
     "name": "stderr",
     "output_type": "stream",
     "text": [
      "[debug] youtube-dl version 2020.01.24\n",
      "[debug] Python version 3.8.1 (CPython) - Linux-5.4.6-2-MANJARO-x86_64-with-glibc2.2.5\n",
      "[debug] exe versions: ffmpeg 4.2.1, ffprobe 4.2.1, rtmpdump 2.4\n",
      "[debug] Proxy map: {}\n"
     ]
    },
    {
     "name": "stdout",
     "output_type": "stream",
     "text": [
      "[youtube] WdBLh5c14rs: Downloading webpage\n",
      "[youtube] WdBLh5c14rs: Downloading video info webpage\n",
      "[youtube] Downloading just video WdBLh5c14rs because of --no-playlist\n",
      "1:09\n",
      "[debug] Invoking downloader on 'https://r1---sn-8xgp1vo-ab5e.googlevideo.com/videoplayback?expire=1580630526&ei=ni02XoXoM_WE2LYP0fepIA&ip=100.8.14.14&id=o-AKn5j5RhNLePDRyxnOSIqBWDuLWVOQRnNzntGWAaTny_&itag=18&source=youtube&requiressl=yes&mm=31%2C29&mn=sn-8xgp1vo-ab5e%2Csn-ab5sznld&ms=au%2Crdu&mv=m&mvi=0&pl=16&initcwndbps=1696250&vprv=1&mime=video%2Fmp4&gir=yes&clen=3628609&ratebypass=yes&dur=69.195&lmt=1577438688403460&mt=1580608806&fvip=1&fexp=23842630&c=WEB&txp=5531432&sparams=expire%2Cei%2Cip%2Cid%2Citag%2Csource%2Crequiressl%2Cvprv%2Cmime%2Cgir%2Cclen%2Cratebypass%2Cdur%2Clmt&sig=ALgxI2wwRgIhAMLPOXe2lpQ8qdhrgJ-ffvhd7LO7MSkP2npfpMGTq8yfAiEA-6qjAU3MA2g6QxIOFD8o2IiT1ymvImtFGRyY-RtSMoA%3D&lsparams=mm%2Cmn%2Cms%2Cmv%2Cmvi%2Cpl%2Cinitcwndbps&lsig=AHylml4wRQIgCBBCMv5ymcaJncGxyk9k2-kTtgX9UKthfW9ej8fxnr8CIQDym5Xm5EGRYtMIx1RKCeG887W04Sdf5OtAYUKuwDEwaw%3D%3D'\n",
      "[download] Destination: outputs/Princess Bubblegum and Marceline kiss _ Adventure Time ''come along with me''-WdBLh5c14rs.mp4\n",
      "[download] 100% of 3.46MiB in 00:0084MiB/s ETA 00:004\n"
     ]
    }
   ],
   "source": [
    "abc = VideoDownloader(20, 1000, 'search.txt')\n",
    "abc.download_videos()"
   ]
  },
  {
   "cell_type": "code",
   "execution_count": null,
   "metadata": {},
   "outputs": [],
   "source": [
    "class VideoMaker:\n",
    "    def __init__(self, \n",
    "                 audio_file = '', \n",
    "                 num_vids = 20, \n",
    "                 video_directory='input_videos/',\n",
    "                 sample_rate = None )\n",
    "        self.audio_file = audio_file\n",
    "        self.num_vids = num_vids\n",
    "        self.video_directory = video_directory\n",
    "        self.sample_rate = sample_rate \n",
    "        \n",
    "    def execute(self, sdfdsf):\n",
    "        #create onsets\n",
    "        #cut clips\n",
    "        #create video\n",
    "        \n",
    "        \n",
    "    def get_onset(self, audio_file, sample_rate):\n",
    "        win_s = 512                 # fft size\n",
    "        hop_s = win_s // 2          # hop size\n",
    "\n",
    "        s = source(audio_file, sample_rate, hop_s)\n",
    "        print(sample_rate)\n",
    "        sample_rate = s.sample_rate\n",
    "        print(sample_rate)\n",
    "        o = onset(\"default\", win_s, hop_s, sample_rate)\n",
    "\n",
    "        # list of onsets, in samples\n",
    "        onsets = []\n",
    "        # total number of frames read\n",
    "        total_frames = 0\n",
    "        while True:\n",
    "            samples, read = s()\n",
    "            if o(samples):\n",
    "                f = \"%f\" % o.get_last_s()\n",
    "                onsets.append(f)\n",
    "            total_frames += read\n",
    "            if read < hop_s: break\n",
    "        return onsets\n",
    "\n",
    "        \n",
    "    \n",
    "        \n",
    "                 "
   ]
  },
  {
   "cell_type": "code",
   "execution_count": 12,
   "metadata": {},
   "outputs": [],
   "source": [
    "def get_onset(audio_file, sample_rate=44100):\n",
    "    win_s = 512                 # fft size\n",
    "    hop_s = win_s // 2          # hop size\n",
    "\n",
    "    s = source(audio_file, sample_rate, hop_s)\n",
    "    sample_rate = s.samplerate\n",
    "    o = onset(\"default\", win_s, hop_s, sample_rate)\n",
    "\n",
    "    # list of onsets, in samples\n",
    "    onsets = []\n",
    "    # total number of frames read\n",
    "    saples, read = s()\n",
    "    \n",
    "    total_frames = 0\n",
    "    while True:\n",
    "        samples, read = s()\n",
    "        if o(samples):\n",
    "            f = \"%f\" % o.get_last_s()\n",
    "            onsets.append(f)\n",
    "        total_frames += read\n",
    "        if read < hop_s: break\n",
    "    return [float(x) for x in onsets]\n",
    "\n",
    "def remove_random_onsets(onsets, pct_to_remove=.95):\n",
    "    idx_to_remove = int(len(onsets) * pct_to_remove)\n",
    "    random.shuffle(onsets)\n",
    "    return sorted(onsets[idx_to_remove:])"
   ]
  },
  {
   "cell_type": "code",
   "execution_count": 8,
   "metadata": {},
   "outputs": [],
   "source": [
    "def load_clips(clip_dir, num_vids):\n",
    "    clips = os.listdir(clip_dir)\n",
    "    random.shuffle(clips)\n",
    "    return [editor.VideoFileClip('/'.join([clip_dir, path])) for path in clips]\n",
    "def cut_clips(clip_objects, onsets, num_vids):\n",
    "    subclip_list = []\n",
    "    for i in range(len(onsets)-1):\n",
    "        subclip = random.choice(clip_objects)\n",
    "        start_time, end_time  = map(float, (onsets[i], onsets[i + 1]))\n",
    "        if subclip.duration > start_time and subclip.duration > end_time:\n",
    "            subclip = subclip.subclip(start_time, end_time)\n",
    "            subclip_list.append(subclip)\n",
    "    return subclip_list\n",
    "            "
   ]
  },
  {
   "cell_type": "code",
   "execution_count": 9,
   "metadata": {},
   "outputs": [],
   "source": [
    "import random"
   ]
  },
  {
   "cell_type": "code",
   "execution_count": 4,
   "metadata": {},
   "outputs": [
    {
     "name": "stdout",
     "output_type": "stream",
     "text": [
      "mv: cannot stat 'The Drifters - Saturday Night At The Movies.mp3': No such file or directory\n"
     ]
    }
   ],
   "source": [
    "mv \"The Drifters - Saturday Night At The Movies.mp3\" \"satnight.mp3\""
   ]
  },
  {
   "cell_type": "code",
   "execution_count": 15,
   "metadata": {},
   "outputs": [
    {
     "name": "stderr",
     "output_type": "stream",
     "text": [
      "t:   0%|          | 2/4769 [00:00<06:19, 12.57it/s, now=None]"
     ]
    },
    {
     "name": "stdout",
     "output_type": "stream",
     "text": [
      "Moviepy - Building video output.mp4.\n",
      "Moviepy - Writing video output.mp4\n",
      "\n"
     ]
    },
    {
     "name": "stderr",
     "output_type": "stream",
     "text": [
      "                                                                \r"
     ]
    },
    {
     "name": "stdout",
     "output_type": "stream",
     "text": [
      "Moviepy - Done !\n",
      "Moviepy - video ready output.mp4\n"
     ]
    }
   ],
   "source": [
    "         \n",
    "onset_list = remove_random_onsets(get_onset('satnight.mp3'))\n",
    "clip_objs = load_clips('outputs', 10) \n",
    "final_list = cut_clips(clip_objs, onset_list, 20)\n",
    "final_clip = editor.concatenate_videoclips(final_list, method='compose')\n",
    "final_clip.write_videofile('output.mp4', audio='satnight.mp3')"
   ]
  },
  {
   "cell_type": "code",
   "execution_count": 48,
   "metadata": {},
   "outputs": [],
   "source": [
    "\n"
   ]
  },
  {
   "cell_type": "code",
   "execution_count": 49,
   "metadata": {},
   "outputs": [],
   "source": []
  },
  {
   "cell_type": "code",
   "execution_count": 52,
   "metadata": {},
   "outputs": [
    {
     "name": "stderr",
     "output_type": "stream",
     "text": [
      "t:   0%|          | 0/368 [00:00<?, ?it/s, now=None]"
     ]
    },
    {
     "name": "stdout",
     "output_type": "stream",
     "text": [
      "Moviepy - Building video output.mp4.\n",
      "Moviepy - Writing video output.mp4\n",
      "\n"
     ]
    },
    {
     "name": "stderr",
     "output_type": "stream",
     "text": [
      "                                                              \r"
     ]
    },
    {
     "name": "stdout",
     "output_type": "stream",
     "text": [
      "Moviepy - Done !\n",
      "Moviepy - video ready output.mp4\n"
     ]
    }
   ],
   "source": []
  },
  {
   "cell_type": "code",
   "execution_count": 4,
   "metadata": {},
   "outputs": [],
   "source": []
  },
  {
   "cell_type": "code",
   "execution_count": 37,
   "metadata": {},
   "outputs": [],
   "source": []
  },
  {
   "cell_type": "code",
   "execution_count": 53,
   "metadata": {},
   "outputs": [
    {
     "name": "stdout",
     "output_type": "stream",
     "text": [
      "VLC media player 3.0.8 Vetinari (revision 3.0.8-0-gf350b6b5a7)\n",
      "[\u001b[32;1m00005609f9e6d5b0\u001b[0m] main libvlc: \u001b[0;1mRunning vlc with the default interface. Use 'cvlc' to use vlc without interface.\u001b[0m\n",
      "qt5ct: using qt5ct plugin\n",
      "qt5ct: D-Bus global menu: no\n",
      "qt5ct: D-Bus system tray: no\n",
      "[\u001b[32;1m00007f5760001f50\u001b[0m] glconv_vaapi_x11 gl error: \u001b[31;1mvaInitialize: unknown libva error\u001b[0m\n",
      "[\u001b[32;1m00007f5760001f50\u001b[0m] glconv_vaapi_drm gl error: \u001b[31;1mvaInitialize: unknown libva error\u001b[0m\n",
      "libva error: va_getDriverName() failed with operation failed,driver_name=i965\n",
      "[\u001b[32;1m00007f5760001f50\u001b[0m] glconv_vaapi_drm gl error: \u001b[31;1mvaInitialize: operation failed\u001b[0m\n",
      "[\u001b[32;1m00007f5760001f50\u001b[0m] glconv_vaapi_drm gl error: \u001b[31;1mvaDeriveImage: operation failed\u001b[0m\n",
      "[\u001b[32;1m00007f57640532d0\u001b[0m] main video output error: \u001b[31;1mvideo output creation failed\u001b[0m\n",
      "[\u001b[32;1m00007f5770c46000\u001b[0m] main decoder error: \u001b[31;1mfailed to create video output\u001b[0m\n",
      "Failed to open VDPAU backend libvdpau_va_gl.so: cannot open shared object file: No such file or directory\n",
      "[\u001b[32;1m00007f5770c46000\u001b[0m] main decoder error: \u001b[31;1mbuffer deadlock prevented\u001b[0m\n",
      "[\u001b[32;1m00007f5770c46000\u001b[0m] main decoder error: \u001b[31;1mbuffer deadlock prevented\u001b[0m\n",
      "[\u001b[32;1m00007f5770c46000\u001b[0m] main decoder error: \u001b[31;1mbuffer deadlock prevented\u001b[0m\n",
      "[\u001b[32;1m00007f5770c46000\u001b[0m] main decoder error: \u001b[31;1mbuffer deadlock prevented\u001b[0m\n",
      "[\u001b[32;1m00007f5770c46000\u001b[0m] main decoder error: \u001b[31;1mbuffer deadlock prevented\u001b[0m\n",
      "[\u001b[32;1m00007f5770c46000\u001b[0m] main decoder error: \u001b[31;1mbuffer deadlock prevented\u001b[0m\n",
      "[\u001b[32;1m00007f5770c46000\u001b[0m] main decoder error: \u001b[31;1mbuffer deadlock prevented\u001b[0m\n",
      "[\u001b[32;1m00007f5770c46000\u001b[0m] main decoder error: \u001b[31;1mbuffer deadlock prevented\u001b[0m\n",
      "[\u001b[32;1m00007f5770c46000\u001b[0m] main decoder error: \u001b[31;1mbuffer deadlock prevented\u001b[0m\n",
      "[\u001b[32;1m00007f5770c46000\u001b[0m] main decoder error: \u001b[31;1mbuffer deadlock prevented\u001b[0m\n",
      "[\u001b[32;1m00007f5770c46000\u001b[0m] main decoder error: \u001b[31;1mbuffer deadlock prevented\u001b[0m\n",
      "[\u001b[32;1m00007f5770c46000\u001b[0m] main decoder error: \u001b[31;1mbuffer deadlock prevented\u001b[0m\n",
      "[\u001b[32;1m00007f5770c46000\u001b[0m] main decoder error: \u001b[31;1mbuffer deadlock prevented\u001b[0m\n",
      "[\u001b[32;1m00007f5770c46000\u001b[0m] main decoder error: \u001b[31;1mbuffer deadlock prevented\u001b[0m\n",
      "[\u001b[32;1m00007f5770c46000\u001b[0m] main decoder error: \u001b[31;1mbuffer deadlock prevented\u001b[0m\n",
      "QObject::~QObject: Timers cannot be stopped from another thread\n"
     ]
    }
   ],
   "source": [
    "!vlc output.mp4"
   ]
  },
  {
   "cell_type": "code",
   "execution_count": null,
   "metadata": {},
   "outputs": [],
   "source": []
  }
 ],
 "metadata": {
  "kernelspec": {
   "display_name": "Python 3",
   "language": "python",
   "name": "python3"
  },
  "language_info": {
   "codemirror_mode": {
    "name": "ipython",
    "version": 3
   },
   "file_extension": ".py",
   "mimetype": "text/x-python",
   "name": "python",
   "nbconvert_exporter": "python",
   "pygments_lexer": "ipython3",
   "version": "3.8.1"
  }
 },
 "nbformat": 4,
 "nbformat_minor": 4
}
