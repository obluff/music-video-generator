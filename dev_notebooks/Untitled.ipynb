{
 "cells": [
  {
   "cell_type": "code",
   "execution_count": 11,
   "metadata": {},
   "outputs": [],
   "source": [
    "from bs4 import BeautifulSoup\n",
    "import youtube_dl\n",
    "import requests\n",
    "from functools import reduce\n",
    "import random\n",
    "import pafy \n",
    "import random\n",
    "import os \n",
    "from aubio import source, onset\n",
    "from moviepy import editor"
   ]
  },
  {
   "cell_type": "code",
   "execution_count": 6,
   "metadata": {},
   "outputs": [
    {
     "name": "stdout",
     "output_type": "stream",
     "text": [
      "Collecting youtube_dl\n",
      "\u001b[?25l  Downloading https://files.pythonhosted.org/packages/05/d4/64dfe51be0fae772e86be3c83d82ec22d59aa8521d8834e10355bf60f9f5/youtube_dl-2020.1.24-py2.py3-none-any.whl (1.8MB)\n",
      "\u001b[K     |████████████████████████████████| 1.8MB 5.4MB/s eta 0:00:01\n",
      "\u001b[?25hInstalling collected packages: youtube-dl\n",
      "  Found existing installation: youtube-dl 2019.12.25\n",
      "    Uninstalling youtube-dl-2019.12.25:\n",
      "      Successfully uninstalled youtube-dl-2019.12.25\n",
      "  Rolling back uninstall of youtube-dl\n",
      "  Moving to /home/obluff/.local/bin/youtube-dl\n",
      "   from /tmp/pip-uninstall-n7_um1ls/youtube-dl\n",
      "  Moving to /home/obluff/.local/etc/bash_completion.d/\n",
      "   from /home/obluff/.local/etc/~ash_completion.d\n",
      "  Moving to /home/obluff/.local/etc/fish/completions/\n",
      "   from /home/obluff/.local/etc/fish/~ompletions\n",
      "  Moving to /home/obluff/.local/lib/python3.8/site-packages/youtube_dl-2019.12.25.dist-info/\n",
      "   from /home/obluff/.local/lib/python3.8/site-packages/~outube_dl-2019.12.25.dist-info\n",
      "  Moving to /home/obluff/.local/lib/python3.8/site-packages/youtube_dl/\n",
      "   from /home/obluff/.local/lib/python3.8/site-packages/~outube_dl\n",
      "  Moving to /home/obluff/.local/share/doc/youtube_dl/\n",
      "   from /home/obluff/.local/share/doc/~outube_dl\n",
      "  Moving to /home/obluff/.local/share/man/man1/youtube-dl.1\n",
      "   from /tmp/pip-uninstall-o_k7c_bi/youtube-dl.1\n",
      "\u001b[31mERROR: Could not install packages due to an EnvironmentError: [Errno 13] Permission denied: '/usr/lib/python3.8/site-packages/youtube_dl-2020.1.24.dist-info'\n",
      "Consider using the `--user` option or check the permissions.\n",
      "\u001b[0m\n"
     ]
    }
   ],
   "source": [
    "!pip install --upgrade youtube_dl"
   ]
  },
  {
   "cell_type": "code",
   "execution_count": 41,
   "metadata": {},
   "outputs": [],
   "source": [
    "class VideoDownloader:\n",
    "    def __init__(self,\n",
    "                 num_vids=20, \n",
    "                 max_length=360, \n",
    "                 search_terms_input=''):\n",
    "        \n",
    "        self.num_vids = num_vids\n",
    "        with open(search_terms_input, 'r') as r:\n",
    "            self.search_terms = r.read().split('\\n')\n",
    "        r.close()\n",
    "    \n",
    "    def download_videos(self):\n",
    "        random.shuffle(self.search_terms)\n",
    "        all_options = [self.collect_videos(x) for x in self.search_terms[:4]]\n",
    "        list_of_links = reduce(lambda x, y: x + y, all_options)\n",
    "        print(list_of_links)\n",
    "        if len(list_of_links) > self.num_vids:\n",
    "            random.shuffle(list_of_links)\n",
    "            list_of_links = list_of_links[:self.num_vids]\n",
    "        for i, item in enumerate(list_of_links):\n",
    "            print('Downloading', item)\n",
    "            self.download_video(item)\n",
    "                       \n",
    "    def download_video(self, link):\n",
    "        print('downloading', link)\n",
    "        ydl_opts = {'format': 'mp4',\n",
    "                    'noplaylist':'true',\n",
    "                    'outtmpl': 'outputs/%(title)s-%(id)s.%(ext)s',\n",
    "                    'forceduration' : 'true',\n",
    "                    'verbose'  : 'true'}\n",
    "        with youtube_dl.YoutubeDL(ydl_opts) as ydl:\n",
    "            ydl.download([link])\n",
    "            \n",
    "    def collect_videos(self, search_term):\n",
    "        video_request = self.get_video_request(search_term)\n",
    "        list_of_links = self.video_links_from_search_request(video_request)\n",
    "        collected_vids = [x for x in list_of_links if self.filter_out_long_vids(x)]\n",
    "        return collected_vids\n",
    "        \n",
    "    \n",
    "    def filter_out_long_vids(self, link):\n",
    "        try:  \n",
    "            return pafy.new(link).length < 3600\n",
    "        except:\n",
    "            return False\n",
    "            \n",
    "    def video_links_from_search_request(self, html):\n",
    "        soup = BeautifulSoup(html, \"html.parser\")\n",
    "        vids = soup.findAll('a',attrs={'class':'yt-uix-tile-link'})\n",
    "        vids = filter(lambda x: 'channel' not in x, vids)\n",
    "        return [''.join(['http://youtube.com', x['href']]) for x in vids]\n",
    "    \n",
    "    def get_video_request(self, search_term):\n",
    "        query ='https://www.youtube.com/results?search_query=\"{}\"++long+-vlog+-review'.format(search_term)\n",
    "        r = requests.get(query)\n",
    "        if r.ok:\n",
    "            return r.text\n",
    "        raise Exception('Youtube Search Failed')"
   ]
  },
  {
   "cell_type": "code",
   "execution_count": null,
   "metadata": {},
   "outputs": [],
   "source": [
    "\n"
   ]
  },
  {
   "cell_type": "code",
   "execution_count": null,
   "metadata": {},
   "outputs": [
    {
     "name": "stdout",
     "output_type": "stream",
     "text": [
      "Downloading Videos\n"
     ]
    }
   ],
   "source": [
    "#abc = VideoDownloader(20, 1000, 'search.txt')\n",
    "#abc.download_videos()\n",
    "\n",
    "\n",
    "class MusicVideoGeneratorDriver:\n",
    "    def __init__(self, \n",
    "                 audio_file = '', \n",
    "                 video_directory='outputs',\n",
    "                 output_file = 'output.mp4',\n",
    "                 max_length = 360,\n",
    "                 search_terms_input = 'search.txt',\n",
    "                 num_vids = 20, \n",
    "                 sample_rate = None):\n",
    "        \n",
    "        self.VideoDownloaderParams= {\n",
    "                        'num_vids': num_vids,\n",
    "                        'max_length': max_length,\n",
    "                        'search_terms_input': search_terms_input\n",
    "                      }\n",
    "        \n",
    "        self.VideoMakerParams= {\n",
    "                        'audio_file': audio_file,\n",
    "                        'video_directory': video_directory,\n",
    "                        'output_file': output_file,\n",
    "                        'num_vids': num_vids,\n",
    "                        'sample_rate': sample_rate,\n",
    "                      }\n",
    "    def execute(self):\n",
    "        print('Downloading Videos')\n",
    "        VideoDownloader(**self.VideoDownloaderParams).download_videos()\n",
    "        print('Creating Music Video')\n",
    "        VideoMaker(**self.VideoMakerParams).execute()\n",
    "        \n",
    "        \n",
    "MusicVideoGeneratorDriver(**{'audio_file': 'killers.mp3', 'num_vids': 30}).execute()"
   ]
  },
  {
   "cell_type": "code",
   "execution_count": 30,
   "metadata": {},
   "outputs": [],
   "source": [
    "\n",
    "class VideoMaker:\n",
    "    def __init__(self, \n",
    "                 audio_file = '', \n",
    "                 video_directory='outputs',\n",
    "                 output_file = 'output.mp4',\n",
    "                 num_vids = 20, \n",
    "                 sample_rate = None):\n",
    "                 \n",
    "        self.audio_file = audio_file\n",
    "        self.num_vids = num_vids\n",
    "        self.video_directory = video_directory\n",
    "        self.sample_rate = sample_rate \n",
    "        self.output_file = output_file\n",
    "        \n",
    "    def execute(self):\n",
    "        onset_list = remove_random_onsets(get_onset(self.audio_file))\n",
    "        clip_objs = load_clips(self.video_directory, self.num_vids) \n",
    "        final_list = cut_clips(clip_objs, onset_list, 20)\n",
    "        final_clip = editor.concatenate_videoclips(final_list, method='compose')\n",
    "        final_clip.write_videofile(self.output_file, audio=self.audio_file)       \n",
    "        \n",
    "    def get_onset(self, audio_file, sample_rate=44100):   \n",
    "        win_s = 512                 # fft size       \n",
    "        hop_s = win_s // 2          # hop size                \n",
    "     \n",
    "        s = source(audio_file, sample_rate, hop_s)\n",
    "        sample_rate = s.samplerate\n",
    "        o = onset(\"default\", win_s, hop_s, sample_rate)\n",
    "     \n",
    "        # list of onsets, in samples\n",
    "        onsets = []\n",
    "        # total number of frames read\n",
    "        saples, read = s()\n",
    "        \n",
    "        total_frames = 0\n",
    "        while True:\n",
    "            samples, read = s()\n",
    "            if o(samples):\n",
    "                f = \"%f\" % o.get_last_s()\n",
    "                onsets.append(f)\n",
    "            total_frames += read\n",
    "            if read < hop_s: break\n",
    "        return [float(x) for x in onsets]\n",
    "     \n",
    "    def remove_random_onsets(self, onsets, pct_to_remove=.95):\n",
    "        idx_to_remove = int(len(onsets) * pct_to_remove)\n",
    "        random.shuffle(onsets)\n",
    "        return sorted(onsets[idx_to_remove:])\n",
    "\n",
    "    def load_clips(self, clip_dir, num_vids):\n",
    "        clips = [x for x in os.listdir(clip_dir) if x.endswith('.mp4')]\n",
    "        print(clips)\n",
    "        random.shuffle(clips)\n",
    "        return [editor.VideoFileClip('/'.join([clip_dir, path])) for path in clips]\n",
    "\n",
    "    def cut_clips(self, clip_objects, onsets, num_vids):\n",
    "        subclip_list = []\n",
    "        for i in range(len(onsets)-1):\n",
    "            subclip = random.choice(clip_objects)\n",
    "            start_time, end_time  = map(float, (onsets[i], onsets[i + 1]))\n",
    "            if subclip.duration > start_time and subclip.duration > end_time:\n",
    "                subclip = subclip.subclip(start_time, end_time)\n",
    "                subclip_list.append(subclip)\n",
    "        return subclip_list\n",
    "  \n",
    "    "
   ]
  },
  {
   "cell_type": "code",
   "execution_count": 29,
   "metadata": {},
   "outputs": [
    {
     "name": "stdout",
     "output_type": "stream",
     "text": [
      "['The Best Upcoming ANIMATION And KIDS Movies 2019 & 2020 (Trailer)--rOwfEtMkWM.mp4', 'Freakishly Long Arm Prank-tBEgyaOh6W8.mp4', 'REALLY LONG HUGS PRANK!!-SM-rBYw-7KE.mp4', 'Ricky Gervais (animal facts)-pTb-pRSqkbA.mp4', 'Monsters Inc 2 - Return of Boo (2020 Movie Trailer Parody)-LXuRLm2_i7I.mp4', '10 FEET  TALL Ghost scary prank (part5) _ Gone Wrong _ BY ANS Entertainment _ (NEVER SEEN BEFORE-QDRAiWJ904s.mp4', 'ANIMAL REUNIONS - 7 MOST HEARTWARMING ANIMAL REUNIONS WITH OWNERS-FEmMW62StO8.mp4', \"The 'Long Stand' Prank on Every Building Site...-xnPZrpBvv-A.mp4\", 'Cute, Funny and Heart-Warming Animals _ Compilation Video-OXVcMogNVRE.mp4', 'Diary of a Wimpy Kid - The Long Haul Teaser Trailer #1 (2017) _ Movieclips Trailers--g7DrEzhFR0.mp4', 'DRIVE THRU GROWING ARM PRANK -Julien Magic-efF7ke_KpHw.mp4', 'TiMER - NEW Official Movie Trailer 2010 [HD]-C4iMWM91cHY.mp4', \"Vintage Spring Songs – 40's, 50's, 60's & 70's--w-OFPl2He4.mp4\", 'COUNTDOWN Official Trailer (2019) Horror Movie-K21rj6FmXmQ.mp4', \"'The Animal ABC Song, The List Is Really Long!' MR. PUPPYMAN-CavSQRu6prI.mp4\", 'Growing Arm Magic Prank -Julien Magic-REYINy5-1kk.mp4', 'Really Long Hugs Prank 2-5JpyYCpYLEs.mp4', 'Animal LifeSpan _ How long do animals live-dQ28H-nwxrU.mp4', 'Long Box Attack Prank! - Just For Laughs Gags-HLQKiPkMKU4.mp4', \"Apprentice 'long wait' prank-WDADFI2rjZc.mp4\"]\n"
     ]
    },
    {
     "name": "stderr",
     "output_type": "stream",
     "text": [
      "t:   0%|          | 0/5379 [00:00<?, ?it/s, now=None]"
     ]
    },
    {
     "name": "stdout",
     "output_type": "stream",
     "text": [
      "Moviepy - Building video output.mp4.\n",
      "Moviepy - Writing video output.mp4\n",
      "\n"
     ]
    },
    {
     "name": "stderr",
     "output_type": "stream",
     "text": [
      "                                                                \r"
     ]
    },
    {
     "name": "stdout",
     "output_type": "stream",
     "text": [
      "Moviepy - Done !\n",
      "Moviepy - video ready output.mp4\n"
     ]
    }
   ],
   "source": [
    "\n",
    "\n"
   ]
  },
  {
   "cell_type": "code",
   "execution_count": 12,
   "metadata": {},
   "outputs": [],
   "source": [
    "def get_onset(audio_file, sample_rate=44100):\n",
    "    win_s = 512                 # fft size\n",
    "    hop_s = win_s // 2          # hop size\n",
    "\n",
    "    s = source(audio_file, sample_rate, hop_s)\n",
    "    sample_rate = s.samplerate\n",
    "    o = onset(\"default\", win_s, hop_s, sample_rate)\n",
    "\n",
    "    # list of onsets, in samples\n",
    "    onsets = []\n",
    "    # total number of frames read\n",
    "    saples, read = s()\n",
    "    \n",
    "    total_frames = 0\n",
    "    while True:\n",
    "        samples, read = s()\n",
    "        if o(samples):\n",
    "            f = \"%f\" % o.get_last_s()\n",
    "            onsets.append(f)\n",
    "        total_frames += read\n",
    "        if read < hop_s: break\n",
    "    return [float(x) for x in onsets]\n",
    "\n",
    "def remove_random_onsets(onsets, pct_to_remove=.95):\n",
    "    idx_to_remove = int(len(onsets) * pct_to_remove)\n",
    "    random.shuffle(onsets)\n",
    "    return sorted(onsets[idx_to_remove:])"
   ]
  },
  {
   "cell_type": "code",
   "execution_count": 22,
   "metadata": {},
   "outputs": [],
   "source": [
    "def load_clips(clip_dir, num_vids):\n",
    "    clips = [x for x in os.listdir(clip_dir) if x.endswith('.mp4')]\n",
    "    print(clips)\n",
    "    random.shuffle(clips)\n",
    "    return [editor.VideoFileClip('/'.join([clip_dir, path])) for path in clips]\n",
    "def cut_clips(clip_objects, onsets, num_vids):\n",
    "    subclip_list = []\n",
    "    for i in range(len(onsets)-1):\n",
    "        subclip = random.choice(clip_objects)\n",
    "        start_time, end_time  = map(float, (onsets[i], onsets[i + 1]))\n",
    "        if subclip.duration > start_time and subclip.duration > end_time:\n",
    "            subclip = subclip.subclip(start_time, end_time)\n",
    "            subclip_list.append(subclip)\n",
    "    return subclip_list\n",
    "            "
   ]
  },
  {
   "cell_type": "code",
   "execution_count": null,
   "metadata": {},
   "outputs": [],
   "source": [
    "import random"
   ]
  },
  {
   "cell_type": "code",
   "execution_count": 25,
   "metadata": {},
   "outputs": [
    {
     "name": "stdout",
     "output_type": "stream",
     "text": [
      "['The Best Upcoming ANIMATION And KIDS Movies 2019 & 2020 (Trailer)--rOwfEtMkWM.mp4', 'Freakishly Long Arm Prank-tBEgyaOh6W8.mp4', 'REALLY LONG HUGS PRANK!!-SM-rBYw-7KE.mp4', 'Ricky Gervais (animal facts)-pTb-pRSqkbA.mp4', 'Monsters Inc 2 - Return of Boo (2020 Movie Trailer Parody)-LXuRLm2_i7I.mp4', '10 FEET  TALL Ghost scary prank (part5) _ Gone Wrong _ BY ANS Entertainment _ (NEVER SEEN BEFORE-QDRAiWJ904s.mp4', 'ANIMAL REUNIONS - 7 MOST HEARTWARMING ANIMAL REUNIONS WITH OWNERS-FEmMW62StO8.mp4', \"The 'Long Stand' Prank on Every Building Site...-xnPZrpBvv-A.mp4\", 'Cute, Funny and Heart-Warming Animals _ Compilation Video-OXVcMogNVRE.mp4', 'Diary of a Wimpy Kid - The Long Haul Teaser Trailer #1 (2017) _ Movieclips Trailers--g7DrEzhFR0.mp4', 'DRIVE THRU GROWING ARM PRANK -Julien Magic-efF7ke_KpHw.mp4', 'TiMER - NEW Official Movie Trailer 2010 [HD]-C4iMWM91cHY.mp4', \"Vintage Spring Songs – 40's, 50's, 60's & 70's--w-OFPl2He4.mp4\", 'COUNTDOWN Official Trailer (2019) Horror Movie-K21rj6FmXmQ.mp4', \"'The Animal ABC Song, The List Is Really Long!' MR. PUPPYMAN-CavSQRu6prI.mp4\", 'Growing Arm Magic Prank -Julien Magic-REYINy5-1kk.mp4', 'Really Long Hugs Prank 2-5JpyYCpYLEs.mp4', 'Animal LifeSpan _ How long do animals live-dQ28H-nwxrU.mp4', 'Long Box Attack Prank! - Just For Laughs Gags-HLQKiPkMKU4.mp4', \"Apprentice 'long wait' prank-WDADFI2rjZc.mp4\"]\n"
     ]
    },
    {
     "name": "stderr",
     "output_type": "stream",
     "text": [
      "t:   0%|          | 0/3409 [00:00<?, ?it/s, now=None]"
     ]
    },
    {
     "name": "stdout",
     "output_type": "stream",
     "text": [
      "Moviepy - Building video output.mp4.\n",
      "Moviepy - Writing video output.mp4\n",
      "\n"
     ]
    },
    {
     "name": "stderr",
     "output_type": "stream",
     "text": [
      "                                                                \r"
     ]
    },
    {
     "name": "stdout",
     "output_type": "stream",
     "text": [
      "Moviepy - Done !\n",
      "Moviepy - video ready output.mp4\n"
     ]
    }
   ],
   "source": [
    "onset_list = remove_random_onsets(get_onset('killers.mp3'))\n",
    "clip_objs = load_clips('outputs', 10) \n",
    "final_list = cut_clips(clip_objs, onset_list, 20)\n",
    "final_clip = editor.concatenate_videoclips(final_list, method='compose')\n",
    "final_clip.write_videofile('output.mp4', audio='killers.mp3')"
   ]
  },
  {
   "cell_type": "code",
   "execution_count": 26,
   "metadata": {},
   "outputs": [
    {
     "name": "stdout",
     "output_type": "stream",
     "text": [
      "MPlayer SVN-r38139 (C) 2000-2019 MPlayer Team\n",
      "225 audio & 465 video codecs\n",
      "do_connect: could not connect to socket\n",
      "connect: No such file or directory\n",
      "Failed to open LIRC support. You will not be able to use your remote control.\n",
      "\n",
      "Playing output.mp4.\n",
      "libavformat version 58.29.100 (external)\n",
      "libavformat file format detected.\n",
      "[mov,mp4,m4a,3gp,3g2,mj2 @ 0x7f760e3887c0]Protocol name not provided, cannot determine if input is local or a network protocol, buffers and access patterns cannot be configured optimally without knowing the protocol\n",
      "[lavf] stream 0: video (h264), -vid 0\n",
      "[lavf] stream 1: audio (mp3float), -aid 0, -alang und\n",
      "VIDEO:  [H264]  1280x720  24bpp  30.000 fps  1169.5 kbps (142.8 kbyte/s)\n",
      "==========================================================================\n",
      "Opening video decoder: [ffmpeg] FFmpeg's libavcodec codec family\n",
      "libavcodec version 58.54.100 (external)\n",
      "Selected video codec: [ffh264] vfm: ffmpeg (FFmpeg H.264)\n",
      "==========================================================================\n",
      "Clip info:\n",
      " major_brand: isom\n",
      " minor_version: 512\n",
      " compatible_brands: isomiso2avc1mp41\n",
      " encoder: Lavf58.20.100\n",
      "Load subtitles in ./\n",
      "==========================================================================\n",
      "Opening audio decoder: [mpg123] MPEG 1.0/2.0/2.5 layers I, II, III\n",
      "AUDIO: 44100 Hz, 2 ch, s16le, 192.0 kbit/13.61% (ratio: 24000->176400)\n",
      "Selected audio codec: [mpg123] afm: mpg123 (MPEG 1.0/2.0/2.5 layers I, II, III)\n",
      "==========================================================================\n",
      "[AO OSS] audio_setup: Can't open audio device /dev/dsp: No such file or directory\n",
      "AO: [alsa] 48000Hz 2ch s16le (2 bytes per sample)\n",
      "Starting playback...\n",
      "Movie-Aspect is undefined - no prescaling applied.\n",
      "VO: [vdpau] 1280x720 => 1280x720 Planar YV12 \n",
      "[ASPECT] Warning: No suitable new res found!\n",
      "[ASPECT] Warning: No suitable new res found!\n",
      "A:   8.9 V:   8.9 A-V:  0.001 ct:  0.001   0/  0 15% 28%  1.3% 3 0 \u001b[J\n",
      "A:  65.4 V:  65.4 A-V:  0.000 ct:  0.001   0/  0 20% 20%  1.2% 3 0 \u001b[J\n",
      "A: 113.5 V: 113.5 A-V:  0.000 ct:  0.001   0/  0 17% 22%  1.1% 3 0 \u001b[J\n",
      "Possibly bad interleaving detected.\n",
      "Use -ni option if this causes playback issues and avoid or fix the program that created the file.\n",
      "A: 142.5 V: 113.6 A-V: 28.908 ct:20385.525   0/  0  0%  0%  0.0% 3 0 \u001b[J57 ct:10537.245   0/  0  0%  0%  0.0% 3 0 \u001b[J ct:11528.159   0/  0  0%  0%  0.0% 3 0 \u001b[J  0.0% 3 0 \u001b[J  0.0% 3 0 \u001b[J  0.0% 3 0 \u001b[J ct:12243.653   0/  0  0%  0%  0.0% 3 0 \u001b[J  0.0% 3 0 \u001b[J ct:12476.341   0/  0  0%  0%  0.0% 3 0 \u001b[J  0.0% 3 0 \u001b[J ct:12623.265   0/  0  0%  0%  0.0% 3 0 \u001b[J  0.0% 3 0 \u001b[J ct:12746.780   0/  0  0%  0%  0.0% 3 0 \u001b[J  0.0% 3 0 \u001b[J  0.0% 3 0 \u001b[J  0.0% 3 0 \u001b[J  0.0% 3 0 \u001b[J  0.0% 3 0 \u001b[J  0.0% 3 0 \u001b[J ct:13374.319   0/  0  0%  0%  0.0% 3 0 \u001b[J73 ct:13466.956   0/  0  0%  0%  0.0% 3 0 \u001b[J ct:13527.718   0/  0  0%  0%  0.0% 3 0 \u001b[J15 ct:13620.056   0/  0  0%  0%  0.0% 3 0 \u001b[J ct:13682.511   0/  0  0%  0%  0.0% 3 0 \u001b[J  0.0% 3 0 \u001b[J  0.0% 3 0 \u001b[J ct:13916.792   0/  0  0%  0%  0.0% 3 0 \u001b[J93 ct:14005.544   0/  0  0%  0%  0.0% 3 0 \u001b[J ct:14070.091   0/  0  0%  0%  0.0% 3 0 \u001b[J43 ct:14160.735   0/  0  0%  0%  0.0% 3 0 \u001b[J  0.0% 3 0 \u001b[J  0.0% 3 0 \u001b[JJ ct:14423.106   0/  0  0%  0%  0.0% 3 0 \u001b[J  0.0% 3 0 \u001b[J ct:14570.229   0/  0  0%  0%  0.0% 3 0 \u001b[J22 ct:14664.759   0/  0  0%  0%  0.0% 3 0 \u001b[J ct:14741.060   0/  0  0%  0%  0.0% 3 0 \u001b[J13.6 A-V: 17.363 ct:14829.513   0/  0  0%  0%  0.0% 3 0 \u001b[J ct:14892.067   0/  0  0%  0%  0.0% 3 0 \u001b[J  0.0% 3 0 \u001b[J  0.0% 3 0 \u001b[J  0.0% 3 0 \u001b[J06 ct:15174.261   0/  0  0%  0%  0.0% 3 0 \u001b[J ct:15235.022   0/  0  0%  0%  0.0% 3 0 \u001b[J  0.0% 3 0 \u001b[J ct:15369.894   0/  0  0%  0%  0.0% 3 0 \u001b[J  0.0% 3 0 \u001b[J ct:15485.142   0/  0  0%  0%  0.0% 3 0 \u001b[J  0.0% 3 0 \u001b[J ct:15621.108   0/  0  0%  0%  0.0% 3 0 \u001b[J  0.0% 3 0 \u001b[J ct:15761.259   0/  0  0%  0%  0.0% 3 0 \u001b[J  0.0% 3 0 \u001b[J ct:15904.896   0/  0  0%  0%  0.0% 3 0 \u001b[J  0.0% 3 0 \u001b[J ct:16038.372   0/  0  0%  0%  0.0% 3 0 \u001b[J  0.0% 3 0 \u001b[J ct:16179.419   0/  0  0%  0%  0.0% 3 0 \u001b[J  0.0% 3 0 \u001b[J  0.0% 3 0 \u001b[J ct:16416.092   0/  0  0%  0%  0.0% 3 0 \u001b[J  0.0% 3 0 \u001b[J ct:16540.504   0/  0  0%  0%  0.0% 3 0 \u001b[J33 ct:16627.961   0/  0  0%  0%  0.0% 3 0 \u001b[J  0.0% 3 0 \u001b[JJ  0.0% 3 0 \u001b[J ct:16865.529   0/  0  0%  0%  0.0% 3 0 \u001b[J  0.0% 3 0 \u001b[J ct:16999.803   0/  0  0%  0%  0.0% 3 0 \u001b[J65 ct:17095.029   0/  0  0%  0%  0.0% 3 0 \u001b[J ct:17159.477   0/  0  0%  0%  0.0% 3 0 \u001b[J ct:17334.391   0/  0  0%  0%  0.0% 3 0 \u001b[J  0.0% 3 0 \u001b[J ct:17465.576   0/  0  0%  0%  0.0% 3 0 \u001b[J  0.0% 3 0 \u001b[J ct:17617.381   0/  0  0%  0%  0.0% 3 0 \u001b[J  0.0% 3 0 \u001b[J ct:17757.631   0/  0  0%  0%  0.0% 3 0 \u001b[J  0.0% 3 0 \u001b[J ct:17898.080   0/  0  0%  0%  0.0% 3 0 \u001b[J  0.0% 3 0 \u001b[J ct:18043.211   0/  0  0%  0%  0.0% 3 0 \u001b[J  0.0% 3 0 \u001b[J ct:18177.584   0/  0  0%  0%  0.0% 3 0 \u001b[J  0.0% 3 0 \u001b[J ct:18317.236   0/  0  0%  0%  0.0% 3 0 \u001b[J  0.0% 3 0 \u001b[J ct:18453.701   0/  0  0%  0%  0.0% 3 0 \u001b[J  0.0% 3 0 \u001b[J ct:18578.611   0/  0  0%  0%  0.0% 3 0 \u001b[J  0.0% 3 0 \u001b[J ct:18709.797   0/  0  0%  0%  0.0% 3 0 \u001b[J  0.0% 3 0 \u001b[J ct:18832.516   0/  0  0%  0%  0.0% 3 0 \u001b[J  0.0% 3 0 \u001b[J ct:18959.916   0/  0  0%  0%  0.0% 3 0 \u001b[J  0.0% 3 0 \u001b[J ct:19087.416   0/  0  0%  0%  0.0% 3 0 \u001b[J  0.0% 3 0 \u001b[J ct:19221.391   0/  0  0%  0%  0.0% 3 0 \u001b[J  0.0% 3 0 \u001b[J ct:19337.834   0/  0  0%  0%  0.0% 3 0 \u001b[J  0.0% 3 0 \u001b[J ct:19457.066   0/  0  0%  0%  0.0% 3 0 \u001b[J  0.0% 3 0 \u001b[J ct:19576.100   0/  0  0%  0%  0.0% 3 0 \u001b[J  0.0% 3 0 \u001b[J ct:19687.264   0/  0  0%  0%  0.0% 3 0 \u001b[J  0.0% 3 0 \u001b[J ct:19803.309   0/  0  0%  0%  0.0% 3 0 \u001b[J  0.0% 3 0 \u001b[J ct:19918.457   0/  0  0%  0%  0.0% 3 0 \u001b[J  0.0% 3 0 \u001b[J113.6 A-V: 27.600 ct:20006.213   0/  0  0%  0%  0.0% 3 0 \u001b[J[J605 ct:20014.381   0/  0  0%  0%  0.0% 3 0 \u001b[JJ0%  0.0% 3 0 \u001b[J4   0/  0  0%  0%  0.0% 3 0 \u001b[J ct:20126.840   0/  0  0%  0%  0.0% 3 0 \u001b[J  0.0% 3 0 \u001b[J ct:20247.965   0/  0  0%  0%  0.0% 3 0 \u001b[J  0.0% 3 0 \u001b[J ct:20361.320   0/  0  0%  0%  0.0% 3 0 \u001b[J\n",
      "No bind found for key 'R'.\n",
      "A: 142.5 V: 113.6 A-V: 28.920 ct:20404.750   0/  0  0%  0%  0.0% 3 0 \u001b[J\n",
      "No bind found for key 'E'.\n",
      "A: 142.7 V: 113.6 A-V: 29.072 ct:20478.660   0/  0  0%  0%  0.0% 3 0 \u001b[J  0.0% 3 0 \u001b[J ct:20476.668   0/  0  0%  0%  0.0% 3 0 \u001b[J\n",
      "No bind found for key 'E'.\n",
      "A: 142.9 V: 113.6 A-V: 29.305 ct:20568.607   0/  0  0%  0%  0.0% 3 0 \u001b[J0 ct:20555.359   0/  0  0%  0%  0.0% 3 0 \u001b[J\n",
      "sending VFCTRL_SCREENSHOT!\n",
      "failed (forgot -vf screenshot?)\n",
      "A: 143.4 V: 113.6 A-V: 29.782 ct:20713.539   0/  0  0%  0%  0.0% 3 0 \u001b[J ct:20586.637   0/  0  0%  0%  0.0% 3 0 \u001b[J  0.0% 3 0 \u001b[J ct:20689.234   0/  0  0%  0%  0.0% 3 0 \u001b[J\n",
      "\n",
      "\n",
      "Exiting... (End of file)\n"
     ]
    }
   ],
   "source": [
    "!xdg-open output.mp4"
   ]
  },
  {
   "cell_type": "code",
   "execution_count": 4,
   "metadata": {},
   "outputs": [],
   "source": []
  },
  {
   "cell_type": "code",
   "execution_count": 37,
   "metadata": {},
   "outputs": [],
   "source": []
  },
  {
   "cell_type": "code",
   "execution_count": 53,
   "metadata": {},
   "outputs": [
    {
     "name": "stdout",
     "output_type": "stream",
     "text": [
      "VLC media player 3.0.8 Vetinari (revision 3.0.8-0-gf350b6b5a7)\n",
      "[\u001b[32;1m00005609f9e6d5b0\u001b[0m] main libvlc: \u001b[0;1mRunning vlc with the default interface. Use 'cvlc' to use vlc without interface.\u001b[0m\n",
      "qt5ct: using qt5ct plugin\n",
      "qt5ct: D-Bus global menu: no\n",
      "qt5ct: D-Bus system tray: no\n",
      "[\u001b[32;1m00007f5760001f50\u001b[0m] glconv_vaapi_x11 gl error: \u001b[31;1mvaInitialize: unknown libva error\u001b[0m\n",
      "[\u001b[32;1m00007f5760001f50\u001b[0m] glconv_vaapi_drm gl error: \u001b[31;1mvaInitialize: unknown libva error\u001b[0m\n",
      "libva error: va_getDriverName() failed with operation failed,driver_name=i965\n",
      "[\u001b[32;1m00007f5760001f50\u001b[0m] glconv_vaapi_drm gl error: \u001b[31;1mvaInitialize: operation failed\u001b[0m\n",
      "[\u001b[32;1m00007f5760001f50\u001b[0m] glconv_vaapi_drm gl error: \u001b[31;1mvaDeriveImage: operation failed\u001b[0m\n",
      "[\u001b[32;1m00007f57640532d0\u001b[0m] main video output error: \u001b[31;1mvideo output creation failed\u001b[0m\n",
      "[\u001b[32;1m00007f5770c46000\u001b[0m] main decoder error: \u001b[31;1mfailed to create video output\u001b[0m\n",
      "Failed to open VDPAU backend libvdpau_va_gl.so: cannot open shared object file: No such file or directory\n",
      "[\u001b[32;1m00007f5770c46000\u001b[0m] main decoder error: \u001b[31;1mbuffer deadlock prevented\u001b[0m\n",
      "[\u001b[32;1m00007f5770c46000\u001b[0m] main decoder error: \u001b[31;1mbuffer deadlock prevented\u001b[0m\n",
      "[\u001b[32;1m00007f5770c46000\u001b[0m] main decoder error: \u001b[31;1mbuffer deadlock prevented\u001b[0m\n",
      "[\u001b[32;1m00007f5770c46000\u001b[0m] main decoder error: \u001b[31;1mbuffer deadlock prevented\u001b[0m\n",
      "[\u001b[32;1m00007f5770c46000\u001b[0m] main decoder error: \u001b[31;1mbuffer deadlock prevented\u001b[0m\n",
      "[\u001b[32;1m00007f5770c46000\u001b[0m] main decoder error: \u001b[31;1mbuffer deadlock prevented\u001b[0m\n",
      "[\u001b[32;1m00007f5770c46000\u001b[0m] main decoder error: \u001b[31;1mbuffer deadlock prevented\u001b[0m\n",
      "[\u001b[32;1m00007f5770c46000\u001b[0m] main decoder error: \u001b[31;1mbuffer deadlock prevented\u001b[0m\n",
      "[\u001b[32;1m00007f5770c46000\u001b[0m] main decoder error: \u001b[31;1mbuffer deadlock prevented\u001b[0m\n",
      "[\u001b[32;1m00007f5770c46000\u001b[0m] main decoder error: \u001b[31;1mbuffer deadlock prevented\u001b[0m\n",
      "[\u001b[32;1m00007f5770c46000\u001b[0m] main decoder error: \u001b[31;1mbuffer deadlock prevented\u001b[0m\n",
      "[\u001b[32;1m00007f5770c46000\u001b[0m] main decoder error: \u001b[31;1mbuffer deadlock prevented\u001b[0m\n",
      "[\u001b[32;1m00007f5770c46000\u001b[0m] main decoder error: \u001b[31;1mbuffer deadlock prevented\u001b[0m\n",
      "[\u001b[32;1m00007f5770c46000\u001b[0m] main decoder error: \u001b[31;1mbuffer deadlock prevented\u001b[0m\n",
      "[\u001b[32;1m00007f5770c46000\u001b[0m] main decoder error: \u001b[31;1mbuffer deadlock prevented\u001b[0m\n",
      "QObject::~QObject: Timers cannot be stopped from another thread\n"
     ]
    }
   ],
   "source": [
    "!vlc output.mp4"
   ]
  },
  {
   "cell_type": "code",
   "execution_count": null,
   "metadata": {},
   "outputs": [],
   "source": []
  }
 ],
 "metadata": {
  "kernelspec": {
   "display_name": "Python 3",
   "language": "python",
   "name": "python3"
  },
  "language_info": {
   "codemirror_mode": {
    "name": "ipython",
    "version": 3
   },
   "file_extension": ".py",
   "mimetype": "text/x-python",
   "name": "python",
   "nbconvert_exporter": "python",
   "pygments_lexer": "ipython3",
   "version": "3.8.0"
  }
 },
 "nbformat": 4,
 "nbformat_minor": 4
}
